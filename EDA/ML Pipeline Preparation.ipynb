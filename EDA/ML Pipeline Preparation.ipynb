{
 "cells": [
  {
   "cell_type": "markdown",
   "metadata": {},
   "source": [
    "# ML Pipeline Preparation\n",
    "Follow the instructions below to help you create your ML pipeline.\n",
    "### 1. Import libraries and load data from database.\n",
    "- Import Python libraries\n",
    "- Load dataset from database with [`read_sql_table`](https://pandas.pydata.org/pandas-docs/stable/generated/pandas.read_sql_table.html)\n",
    "- Define feature and target variables X and Y"
   ]
  },
  {
   "cell_type": "code",
   "execution_count": 2,
   "metadata": {},
   "outputs": [],
   "source": [
    "import nltk\n",
    "from sqlalchemy import *\n",
    "import re\n",
    "import numpy as np\n",
    "import pandas as pd\n",
    "from nltk.tokenize import word_tokenize\n",
    "from nltk.stem import WordNetLemmatizer\n",
    "from sklearn.metrics import classification_report\n",
    "\n",
    "from sklearn.multioutput import MultiOutputClassifier\n",
    "from sklearn.metrics import confusion_matrix\n",
    "from sklearn.model_selection import GridSearchCV\n",
    "from sklearn.neighbors import KNeighborsClassifier\n",
    "\n",
    "from sklearn.model_selection import train_test_split\n",
    "from sklearn.pipeline import Pipeline\n",
    "from sklearn.base import BaseEstimator, TransformerMixin\n",
    "from sklearn.feature_extraction.text import CountVectorizer, TfidfTransformer"
   ]
  },
  {
   "cell_type": "code",
   "execution_count": 3,
   "metadata": {},
   "outputs": [],
   "source": [
    "# load data from database\n",
    "engine = create_engine('sqlite:///Disaster.db')\n",
    "df = pd.read_sql_table('Disaster',engine)\n",
    "X = df['message']\n",
    "Y = df.iloc[:,4:].values"
   ]
  },
  {
   "cell_type": "markdown",
   "metadata": {},
   "source": [
    "### 2. Write a tokenization function to process your text data"
   ]
  },
  {
   "cell_type": "code",
   "execution_count": 4,
   "metadata": {},
   "outputs": [],
   "source": [
    "def tokenize(text):\n",
    "    url_regex = 'http[s]?://(?:[a-zA-Z]|[0-9]|[$-_@.&+]|[!*\\(\\),]|(?:%[0-9a-fA-F][0-9a-fA-F]))+'\n",
    "    detected_urls = re.findall(url_regex,text)\n",
    "    \n",
    "    # replace each url in text string with placeholder\n",
    "    for url in detected_urls:\n",
    "        text = text.replace(url,\"urlplaceholder\")\n",
    "        \n",
    "    tokens = word_tokenize(text)\n",
    "    \n",
    "    # initiate lemmatizer\n",
    "    lemmatizer = WordNetLemmatizer()\n",
    "    # iterate through each token\n",
    "    clean_tokens = []\n",
    "    for tok in tokens:\n",
    "        # lemmatize, normalize case, and remove leading/trailing white space\n",
    "        clean_tok = lemmatizer.lemmatize(tok).strip().lower()\n",
    "        clean_tokens.append(clean_tok)\n",
    "    return clean_tokens"
   ]
  },
  {
   "cell_type": "markdown",
   "metadata": {},
   "source": [
    "### 3. Build a machine learning pipeline\n",
    "This machine pipeline should take in the `message` column as input and output classification results on the other 36 categories in the dataset. You may find the [MultiOutputClassifier](http://scikit-learn.org/stable/modules/generated/sklearn.multioutput.MultiOutputClassifier.html) helpful for predicting multiple target variables."
   ]
  },
  {
   "cell_type": "code",
   "execution_count": 4,
   "metadata": {},
   "outputs": [],
   "source": [
    "pipeline = Pipeline([\n",
    "                ('vect', CountVectorizer(tokenizer=tokenize)),\n",
    "                ('tfidf', TfidfTransformer()),\n",
    "                ('clf',MultiOutputClassifier(KNeighborsClassifier(n_neighbors=5)))\n",
    "            ])\n",
    "\n",
    "\n",
    "        \n"
   ]
  },
  {
   "cell_type": "markdown",
   "metadata": {},
   "source": [
    "\n",
    "### 4. Train pipeline\n",
    "- Split data into train and test sets\n",
    "- Train pipeline"
   ]
  },
  {
   "cell_type": "code",
   "execution_count": 5,
   "metadata": {},
   "outputs": [],
   "source": [
    "X_train, X_test, y_train, y_test = train_test_split(X, Y)"
   ]
  },
  {
   "cell_type": "code",
   "execution_count": 6,
   "metadata": {},
   "outputs": [
    {
     "data": {
      "text/plain": [
       "Pipeline(memory=None,\n",
       "         steps=[('vect',\n",
       "                 CountVectorizer(analyzer='word', binary=False,\n",
       "                                 decode_error='strict',\n",
       "                                 dtype=<class 'numpy.int64'>, encoding='utf-8',\n",
       "                                 input='content', lowercase=True, max_df=1.0,\n",
       "                                 max_features=None, min_df=1,\n",
       "                                 ngram_range=(1, 1), preprocessor=None,\n",
       "                                 stop_words=None, strip_accents=None,\n",
       "                                 token_pattern='(?u)\\\\b\\\\w\\\\w+\\\\b',\n",
       "                                 tokenizer=<function tokenize at 0x00000282AA2058C8>,\n",
       "                                 vocabulary=None)),\n",
       "                ('tfidf',\n",
       "                 TfidfTransformer(norm='l2', smooth_idf=True,\n",
       "                                  sublinear_tf=False, use_idf=True)),\n",
       "                ('clf',\n",
       "                 MultiOutputClassifier(estimator=KNeighborsClassifier(algorithm='auto',\n",
       "                                                                      leaf_size=30,\n",
       "                                                                      metric='minkowski',\n",
       "                                                                      metric_params=None,\n",
       "                                                                      n_jobs=None,\n",
       "                                                                      n_neighbors=5,\n",
       "                                                                      p=2,\n",
       "                                                                      weights='uniform'),\n",
       "                                       n_jobs=None))],\n",
       "         verbose=False)"
      ]
     },
     "execution_count": 6,
     "metadata": {},
     "output_type": "execute_result"
    }
   ],
   "source": [
    "pipeline.fit(X_train, y_train)"
   ]
  },
  {
   "cell_type": "markdown",
   "metadata": {},
   "source": [
    "### 5. Test your model\n",
    "Report the f1 score, precision and recall for each output category of the dataset. You can do this by iterating through the columns and calling sklearn's `classification_report` on each."
   ]
  },
  {
   "cell_type": "code",
   "execution_count": 15,
   "metadata": {},
   "outputs": [],
   "source": [
    "target_names = df.iloc[:,4:].columns"
   ]
  },
  {
   "cell_type": "code",
   "execution_count": 9,
   "metadata": {},
   "outputs": [
    {
     "name": "stdout",
     "output_type": "stream",
     "text": [
      "Label- related \n",
      "              precision    recall  f1-score   support\n",
      "\n",
      "           0       0.54      0.39      0.46      1502\n",
      "           1       0.83      0.90      0.86      5005\n",
      "           2       0.70      0.34      0.46        47\n",
      "\n",
      "    accuracy                           0.78      6554\n",
      "   macro avg       0.69      0.54      0.59      6554\n",
      "weighted avg       0.76      0.78      0.77      6554\n",
      "\n",
      "\n",
      "Label- request \n",
      "              precision    recall  f1-score   support\n",
      "\n",
      "           0       0.87      0.98      0.92      5403\n",
      "           1       0.77      0.33      0.46      1151\n",
      "\n",
      "    accuracy                           0.87      6554\n",
      "   macro avg       0.82      0.65      0.69      6554\n",
      "weighted avg       0.86      0.87      0.84      6554\n",
      "\n",
      "\n",
      "Label- offer \n",
      "              precision    recall  f1-score   support\n",
      "\n",
      "           0       0.99      1.00      1.00      6521\n",
      "           1       0.00      0.00      0.00        33\n",
      "\n",
      "    accuracy                           0.99      6554\n",
      "   macro avg       0.50      0.50      0.50      6554\n",
      "weighted avg       0.99      0.99      0.99      6554\n",
      "\n",
      "\n",
      "Label- aid_related \n",
      "              precision    recall  f1-score   support\n",
      "\n",
      "           0       0.65      0.90      0.76      3814\n",
      "           1       0.71      0.33      0.45      2740\n",
      "\n",
      "    accuracy                           0.66      6554\n",
      "   macro avg       0.68      0.62      0.60      6554\n",
      "weighted avg       0.68      0.66      0.63      6554\n",
      "\n",
      "\n",
      "Label- medical_help \n",
      "              precision    recall  f1-score   support\n",
      "\n",
      "           0       0.93      0.98      0.96      6038\n",
      "           1       0.35      0.10      0.15       516\n",
      "\n",
      "    accuracy                           0.91      6554\n",
      "   macro avg       0.64      0.54      0.55      6554\n",
      "weighted avg       0.88      0.91      0.89      6554\n",
      "\n",
      "\n",
      "Label- medical_products \n",
      "              precision    recall  f1-score   support\n",
      "\n",
      "           0       0.96      0.99      0.97      6242\n",
      "           1       0.27      0.07      0.11       312\n",
      "\n",
      "    accuracy                           0.95      6554\n",
      "   macro avg       0.61      0.53      0.54      6554\n",
      "weighted avg       0.92      0.95      0.93      6554\n",
      "\n",
      "\n",
      "Label- search_and_rescue \n",
      "              precision    recall  f1-score   support\n",
      "\n",
      "           0       0.97      1.00      0.99      6363\n",
      "           1       1.00      0.02      0.03       191\n",
      "\n",
      "    accuracy                           0.97      6554\n",
      "   macro avg       0.99      0.51      0.51      6554\n",
      "weighted avg       0.97      0.97      0.96      6554\n",
      "\n",
      "\n",
      "Label- security \n",
      "              precision    recall  f1-score   support\n",
      "\n",
      "           0       0.98      1.00      0.99      6440\n",
      "           1       0.20      0.01      0.02       114\n",
      "\n",
      "    accuracy                           0.98      6554\n",
      "   macro avg       0.59      0.50      0.50      6554\n",
      "weighted avg       0.97      0.98      0.97      6554\n",
      "\n",
      "\n",
      "Label- military \n",
      "              precision    recall  f1-score   support\n",
      "\n",
      "           0       0.97      1.00      0.98      6350\n",
      "           1       0.47      0.03      0.06       204\n",
      "\n",
      "    accuracy                           0.97      6554\n",
      "   macro avg       0.72      0.52      0.52      6554\n",
      "weighted avg       0.95      0.97      0.96      6554\n",
      "\n",
      "\n",
      "Label- child_alone \n",
      "              precision    recall  f1-score   support\n",
      "\n",
      "           0       1.00      1.00      1.00      6554\n",
      "\n",
      "    accuracy                           1.00      6554\n",
      "   macro avg       1.00      1.00      1.00      6554\n",
      "weighted avg       1.00      1.00      1.00      6554\n",
      "\n",
      "\n",
      "Label- water \n",
      "              precision    recall  f1-score   support\n",
      "\n",
      "           0       0.94      0.99      0.96      6124\n",
      "           1       0.45      0.16      0.24       430\n",
      "\n",
      "    accuracy                           0.93      6554\n",
      "   macro avg       0.70      0.57      0.60      6554\n",
      "weighted avg       0.91      0.93      0.92      6554\n",
      "\n",
      "\n",
      "Label- food \n",
      "              precision    recall  f1-score   support\n",
      "\n",
      "           0       0.91      0.97      0.94      5819\n",
      "           1       0.51      0.24      0.33       735\n",
      "\n",
      "    accuracy                           0.89      6554\n",
      "   macro avg       0.71      0.61      0.63      6554\n",
      "weighted avg       0.87      0.89      0.87      6554\n",
      "\n",
      "\n",
      "Label- shelter \n",
      "              precision    recall  f1-score   support\n",
      "\n",
      "           0       0.93      0.98      0.95      6001\n",
      "           1       0.41      0.16      0.22       553\n",
      "\n",
      "    accuracy                           0.91      6554\n",
      "   macro avg       0.67      0.57      0.59      6554\n",
      "weighted avg       0.88      0.91      0.89      6554\n",
      "\n",
      "\n",
      "Label- clothing \n",
      "              precision    recall  f1-score   support\n",
      "\n",
      "           0       0.98      1.00      0.99      6450\n",
      "           1       0.40      0.04      0.07       104\n",
      "\n",
      "    accuracy                           0.98      6554\n",
      "   macro avg       0.69      0.52      0.53      6554\n",
      "weighted avg       0.98      0.98      0.98      6554\n",
      "\n",
      "\n",
      "Label- money \n",
      "              precision    recall  f1-score   support\n",
      "\n",
      "           0       0.98      1.00      0.99      6404\n",
      "           1       0.60      0.06      0.11       150\n",
      "\n",
      "    accuracy                           0.98      6554\n",
      "   macro avg       0.79      0.53      0.55      6554\n",
      "weighted avg       0.97      0.98      0.97      6554\n",
      "\n",
      "\n",
      "Label- missing_people \n",
      "              precision    recall  f1-score   support\n",
      "\n",
      "           0       0.99      1.00      0.99      6483\n",
      "           1       1.00      0.03      0.05        71\n",
      "\n",
      "    accuracy                           0.99      6554\n",
      "   macro avg       0.99      0.51      0.52      6554\n",
      "weighted avg       0.99      0.99      0.98      6554\n",
      "\n",
      "\n",
      "Label- refugees \n",
      "              precision    recall  f1-score   support\n",
      "\n",
      "           0       0.97      0.99      0.98      6326\n",
      "           1       0.17      0.04      0.06       228\n",
      "\n",
      "    accuracy                           0.96      6554\n",
      "   macro avg       0.57      0.52      0.52      6554\n",
      "weighted avg       0.94      0.96      0.95      6554\n",
      "\n",
      "\n",
      "Label- death \n",
      "              precision    recall  f1-score   support\n",
      "\n",
      "           0       0.96      0.99      0.97      6270\n",
      "           1       0.33      0.16      0.21       284\n",
      "\n",
      "    accuracy                           0.95      6554\n",
      "   macro avg       0.64      0.57      0.59      6554\n",
      "weighted avg       0.94      0.95      0.94      6554\n",
      "\n",
      "\n",
      "Label- other_aid \n",
      "              precision    recall  f1-score   support\n",
      "\n",
      "           0       0.87      1.00      0.93      5667\n",
      "           1       0.44      0.02      0.05       887\n",
      "\n",
      "    accuracy                           0.86      6554\n",
      "   macro avg       0.65      0.51      0.49      6554\n",
      "weighted avg       0.81      0.86      0.81      6554\n",
      "\n",
      "\n",
      "Label- infrastructure_related \n"
     ]
    },
    {
     "name": "stderr",
     "output_type": "stream",
     "text": [
      "c:\\users\\pankhil\\appdata\\local\\programs\\python\\python36\\lib\\site-packages\\sklearn\\metrics\\_classification.py:1272: UndefinedMetricWarning: Precision and F-score are ill-defined and being set to 0.0 in labels with no predicted samples. Use `zero_division` parameter to control this behavior.\n",
      "  _warn_prf(average, modifier, msg_start, len(result))\n"
     ]
    },
    {
     "name": "stdout",
     "output_type": "stream",
     "text": [
      "              precision    recall  f1-score   support\n",
      "\n",
      "           0       0.94      0.99      0.96      6143\n",
      "           1       0.22      0.03      0.06       411\n",
      "\n",
      "    accuracy                           0.93      6554\n",
      "   macro avg       0.58      0.51      0.51      6554\n",
      "weighted avg       0.89      0.93      0.91      6554\n",
      "\n",
      "\n",
      "Label- transport \n",
      "              precision    recall  f1-score   support\n",
      "\n",
      "           0       0.96      1.00      0.98      6286\n",
      "           1       0.47      0.07      0.12       268\n",
      "\n",
      "    accuracy                           0.96      6554\n",
      "   macro avg       0.72      0.53      0.55      6554\n",
      "weighted avg       0.94      0.96      0.94      6554\n",
      "\n",
      "\n",
      "Label- buildings \n",
      "              precision    recall  f1-score   support\n",
      "\n",
      "           0       0.96      0.99      0.98      6256\n",
      "           1       0.35      0.07      0.11       298\n",
      "\n",
      "    accuracy                           0.95      6554\n",
      "   macro avg       0.65      0.53      0.54      6554\n",
      "weighted avg       0.93      0.95      0.94      6554\n",
      "\n",
      "\n",
      "Label- electricity \n",
      "              precision    recall  f1-score   support\n",
      "\n",
      "           0       0.98      1.00      0.99      6419\n",
      "           1       0.29      0.07      0.11       135\n",
      "\n",
      "    accuracy                           0.98      6554\n",
      "   macro avg       0.64      0.53      0.55      6554\n",
      "weighted avg       0.97      0.98      0.97      6554\n",
      "\n",
      "\n",
      "Label- tools \n",
      "              precision    recall  f1-score   support\n",
      "\n",
      "           0       0.99      1.00      1.00      6512\n",
      "           1       0.00      0.00      0.00        42\n",
      "\n",
      "    accuracy                           0.99      6554\n",
      "   macro avg       0.50      0.50      0.50      6554\n",
      "weighted avg       0.99      0.99      0.99      6554\n",
      "\n",
      "\n",
      "Label- hospitals \n",
      "              precision    recall  f1-score   support\n",
      "\n",
      "           0       0.99      1.00      1.00      6489\n",
      "           1       0.00      0.00      0.00        65\n",
      "\n",
      "    accuracy                           0.99      6554\n",
      "   macro avg       0.50      0.50      0.50      6554\n",
      "weighted avg       0.98      0.99      0.99      6554\n",
      "\n",
      "\n",
      "Label- shops \n",
      "              precision    recall  f1-score   support\n",
      "\n",
      "           0       1.00      1.00      1.00      6525\n",
      "           1       0.00      0.00      0.00        29\n",
      "\n",
      "    accuracy                           1.00      6554\n",
      "   macro avg       0.50      0.50      0.50      6554\n",
      "weighted avg       0.99      1.00      0.99      6554\n",
      "\n",
      "\n",
      "Label- aid_centers \n",
      "              precision    recall  f1-score   support\n",
      "\n",
      "           0       0.99      1.00      0.99      6478\n",
      "           1       0.00      0.00      0.00        76\n",
      "\n",
      "    accuracy                           0.99      6554\n",
      "   macro avg       0.49      0.50      0.50      6554\n",
      "weighted avg       0.98      0.99      0.98      6554\n",
      "\n",
      "\n",
      "Label- other_infrastructure \n",
      "              precision    recall  f1-score   support\n",
      "\n",
      "           0       0.96      1.00      0.98      6271\n",
      "           1       0.35      0.02      0.04       283\n",
      "\n",
      "    accuracy                           0.96      6554\n",
      "   macro avg       0.66      0.51      0.51      6554\n",
      "weighted avg       0.93      0.96      0.94      6554\n",
      "\n",
      "\n",
      "Label- weather_related \n",
      "              precision    recall  f1-score   support\n",
      "\n",
      "           0       0.78      0.95      0.86      4690\n",
      "           1       0.73      0.33      0.46      1864\n",
      "\n",
      "    accuracy                           0.77      6554\n",
      "   macro avg       0.75      0.64      0.66      6554\n",
      "weighted avg       0.77      0.77      0.74      6554\n",
      "\n",
      "\n",
      "Label- floods \n",
      "              precision    recall  f1-score   support\n",
      "\n",
      "           0       0.93      0.98      0.96      6039\n",
      "           1       0.48      0.17      0.25       515\n",
      "\n",
      "    accuracy                           0.92      6554\n",
      "   macro avg       0.71      0.57      0.60      6554\n",
      "weighted avg       0.90      0.92      0.90      6554\n",
      "\n",
      "\n",
      "Label- storm \n",
      "              precision    recall  f1-score   support\n",
      "\n",
      "           0       0.91      0.98      0.95      5908\n",
      "           1       0.51      0.15      0.24       646\n",
      "\n",
      "    accuracy                           0.90      6554\n",
      "   macro avg       0.71      0.57      0.59      6554\n",
      "weighted avg       0.87      0.90      0.88      6554\n",
      "\n",
      "\n",
      "Label- fire \n",
      "              precision    recall  f1-score   support\n",
      "\n",
      "           0       0.99      1.00      1.00      6487\n",
      "           1       1.00      0.06      0.11        67\n",
      "\n",
      "    accuracy                           0.99      6554\n",
      "   macro avg       1.00      0.53      0.55      6554\n",
      "weighted avg       0.99      0.99      0.99      6554\n",
      "\n",
      "\n",
      "Label- earthquake \n",
      "              precision    recall  f1-score   support\n",
      "\n",
      "           0       0.93      0.98      0.96      5910\n",
      "           1       0.68      0.31      0.43       644\n",
      "\n",
      "    accuracy                           0.92      6554\n",
      "   macro avg       0.80      0.65      0.69      6554\n",
      "weighted avg       0.90      0.92      0.90      6554\n",
      "\n",
      "\n",
      "Label- cold \n",
      "              precision    recall  f1-score   support\n",
      "\n",
      "           0       0.98      1.00      0.99      6415\n",
      "           1       0.50      0.04      0.07       139\n",
      "\n",
      "    accuracy                           0.98      6554\n",
      "   macro avg       0.74      0.52      0.53      6554\n",
      "weighted avg       0.97      0.98      0.97      6554\n",
      "\n",
      "\n",
      "Label- other_weather \n",
      "              precision    recall  f1-score   support\n",
      "\n",
      "           0       0.95      1.00      0.97      6226\n",
      "           1       0.36      0.05      0.09       328\n",
      "\n",
      "    accuracy                           0.95      6554\n",
      "   macro avg       0.66      0.52      0.53      6554\n",
      "weighted avg       0.92      0.95      0.93      6554\n",
      "\n",
      "\n",
      "Label- direct_report \n",
      "              precision    recall  f1-score   support\n",
      "\n",
      "           0       0.84      0.98      0.90      5249\n",
      "           1       0.73      0.26      0.38      1305\n",
      "\n",
      "    accuracy                           0.83      6554\n",
      "   macro avg       0.78      0.62      0.64      6554\n",
      "weighted avg       0.82      0.83      0.80      6554\n",
      "\n",
      "\n"
     ]
    }
   ],
   "source": [
    "for i in range(y_pred.shape[1]):\n",
    "    print(\"Label- {} \".format(target_names[i]))\n",
    "    print(classification_report(y_test[:,i], y_pred[:,i]))\n",
    "    print(\"\")"
   ]
  },
  {
   "cell_type": "markdown",
   "metadata": {},
   "source": [
    "### 6. Improve your model\n",
    "Use grid search to find better parameters. "
   ]
  },
  {
   "cell_type": "code",
   "execution_count": 11,
   "metadata": {},
   "outputs": [],
   "source": [
    "parameters = {\n",
    "    'clf__estimator__n_neighbors':[3,5,11,19],\n",
    "    'clf__estimator__weights':['uniform','distance'],\n",
    "    'clf__estimator__metric':['euclidean','manhattan']\n",
    "    \n",
    "}\n",
    "clf = GridSearchCV(pipeline, parameters, n_jobs=-1)"
   ]
  },
  {
   "cell_type": "code",
   "execution_count": 12,
   "metadata": {},
   "outputs": [
    {
     "data": {
      "text/plain": [
       "GridSearchCV(cv=None, error_score=nan,\n",
       "             estimator=Pipeline(memory=None,\n",
       "                                steps=[('vect',\n",
       "                                        CountVectorizer(analyzer='word',\n",
       "                                                        binary=False,\n",
       "                                                        decode_error='strict',\n",
       "                                                        dtype=<class 'numpy.int64'>,\n",
       "                                                        encoding='utf-8',\n",
       "                                                        input='content',\n",
       "                                                        lowercase=True,\n",
       "                                                        max_df=1.0,\n",
       "                                                        max_features=None,\n",
       "                                                        min_df=1,\n",
       "                                                        ngram_range=(1, 1),\n",
       "                                                        preprocessor=None,\n",
       "                                                        stop_words=None,\n",
       "                                                        strip_accents=None,\n",
       "                                                        token_pattern='(...\n",
       "                                                                                             metric_params=None,\n",
       "                                                                                             n_jobs=None,\n",
       "                                                                                             n_neighbors=5,\n",
       "                                                                                             p=2,\n",
       "                                                                                             weights='uniform'),\n",
       "                                                              n_jobs=None))],\n",
       "                                verbose=False),\n",
       "             iid='deprecated', n_jobs=-1,\n",
       "             param_grid={'clf__estimator__metric': ['euclidean', 'manhattan'],\n",
       "                         'clf__estimator__n_neighbors': [3, 5, 11, 19],\n",
       "                         'clf__estimator__weights': ['uniform', 'distance']},\n",
       "             pre_dispatch='2*n_jobs', refit=True, return_train_score=False,\n",
       "             scoring=None, verbose=0)"
      ]
     },
     "execution_count": 12,
     "metadata": {},
     "output_type": "execute_result"
    }
   ],
   "source": [
    "clf.fit(X_train, y_train)"
   ]
  },
  {
   "cell_type": "code",
   "execution_count": 15,
   "metadata": {},
   "outputs": [
    {
     "name": "stdout",
     "output_type": "stream",
     "text": [
      "Requirement already satisfied: joblib in c:\\users\\pankhil\\appdata\\local\\programs\\python\\python36\\lib\\site-packages (0.14.1)\n"
     ]
    }
   ],
   "source": [
    "!pip install joblib"
   ]
  },
  {
   "cell_type": "code",
   "execution_count": 19,
   "metadata": {
    "scrolled": true
   },
   "outputs": [
    {
     "data": {
      "text/plain": [
       "['model.pkl']"
      ]
     },
     "execution_count": 19,
     "metadata": {},
     "output_type": "execute_result"
    }
   ],
   "source": [
    "import joblib\n",
    "joblib.dump(clf, 'model.pkl')"
   ]
  },
  {
   "cell_type": "markdown",
   "metadata": {},
   "source": [
    "### 7. Test your model\n",
    "Show the accuracy, precision, and recall of the tuned model.  \n",
    "\n",
    "Since this project focuses on code quality, process, and  pipelines, there is no minimum performance metric needed to pass. However, make sure to fine tune your models for accuracy, precision and recall to make your project stand out - especially for your portfolio!"
   ]
  },
  {
   "cell_type": "code",
   "execution_count": 18,
   "metadata": {},
   "outputs": [
    {
     "name": "stdout",
     "output_type": "stream",
     "text": [
      "Label- related \n",
      "              precision    recall  f1-score   support\n",
      "\n",
      "           0       0.48      0.46      0.47      1502\n",
      "           1       0.84      0.85      0.84      5005\n",
      "           2       0.36      0.34      0.35        47\n",
      "\n",
      "    accuracy                           0.76      6554\n",
      "   macro avg       0.56      0.55      0.55      6554\n",
      "weighted avg       0.75      0.76      0.75      6554\n",
      "\n",
      "\n",
      "Label- request \n",
      "              precision    recall  f1-score   support\n",
      "\n",
      "           0       0.84      0.99      0.91      5403\n",
      "           1       0.76      0.10      0.18      1151\n",
      "\n",
      "    accuracy                           0.84      6554\n",
      "   macro avg       0.80      0.55      0.54      6554\n",
      "weighted avg       0.82      0.84      0.78      6554\n",
      "\n",
      "\n",
      "Label- offer \n",
      "              precision    recall  f1-score   support\n",
      "\n",
      "           0       0.99      1.00      1.00      6521\n",
      "           1       0.00      0.00      0.00        33\n",
      "\n",
      "    accuracy                           0.99      6554\n",
      "   macro avg       0.50      0.50      0.50      6554\n",
      "weighted avg       0.99      0.99      0.99      6554\n",
      "\n",
      "\n",
      "Label- aid_related \n",
      "              precision    recall  f1-score   support\n",
      "\n",
      "           0       0.59      0.99      0.74      3814\n",
      "           1       0.74      0.05      0.10      2740\n",
      "\n",
      "    accuracy                           0.60      6554\n",
      "   macro avg       0.67      0.52      0.42      6554\n",
      "weighted avg       0.65      0.60      0.47      6554\n",
      "\n",
      "\n",
      "Label- medical_help \n",
      "              precision    recall  f1-score   support\n",
      "\n",
      "           0       0.92      1.00      0.96      6038\n",
      "           1       0.62      0.01      0.02       516\n",
      "\n",
      "    accuracy                           0.92      6554\n",
      "   macro avg       0.77      0.50      0.49      6554\n",
      "weighted avg       0.90      0.92      0.89      6554\n",
      "\n",
      "\n",
      "Label- medical_products \n",
      "              precision    recall  f1-score   support\n",
      "\n",
      "           0       0.95      1.00      0.98      6242\n",
      "           1       0.62      0.03      0.05       312\n",
      "\n",
      "    accuracy                           0.95      6554\n",
      "   macro avg       0.78      0.51      0.51      6554\n",
      "weighted avg       0.94      0.95      0.93      6554\n",
      "\n",
      "\n",
      "Label- search_and_rescue \n",
      "              precision    recall  f1-score   support\n",
      "\n",
      "           0       0.97      1.00      0.99      6363\n",
      "           1       0.00      0.00      0.00       191\n",
      "\n",
      "    accuracy                           0.97      6554\n",
      "   macro avg       0.49      0.50      0.49      6554\n",
      "weighted avg       0.94      0.97      0.96      6554\n",
      "\n",
      "\n",
      "Label- security \n",
      "              precision    recall  f1-score   support\n",
      "\n",
      "           0       0.98      1.00      0.99      6440\n",
      "           1       0.17      0.01      0.02       114\n",
      "\n",
      "    accuracy                           0.98      6554\n",
      "   macro avg       0.57      0.50      0.50      6554\n",
      "weighted avg       0.97      0.98      0.97      6554\n",
      "\n",
      "\n",
      "Label- military \n",
      "              precision    recall  f1-score   support\n",
      "\n",
      "           0       0.97      1.00      0.98      6350\n",
      "           1       0.00      0.00      0.00       204\n",
      "\n",
      "    accuracy                           0.97      6554\n",
      "   macro avg       0.48      0.50      0.49      6554\n",
      "weighted avg       0.94      0.97      0.95      6554\n",
      "\n",
      "\n",
      "Label- child_alone \n",
      "              precision    recall  f1-score   support\n",
      "\n",
      "           0       1.00      1.00      1.00      6554\n",
      "\n",
      "    accuracy                           1.00      6554\n",
      "   macro avg       1.00      1.00      1.00      6554\n",
      "weighted avg       1.00      1.00      1.00      6554\n",
      "\n",
      "\n",
      "Label- water \n",
      "              precision    recall  f1-score   support\n",
      "\n",
      "           0       0.94      1.00      0.97      6124\n",
      "           1       0.58      0.06      0.11       430\n",
      "\n",
      "    accuracy                           0.94      6554\n",
      "   macro avg       0.76      0.53      0.54      6554\n",
      "weighted avg       0.91      0.94      0.91      6554\n",
      "\n",
      "\n",
      "Label- food \n",
      "              precision    recall  f1-score   support\n",
      "\n",
      "           0       0.90      1.00      0.94      5819\n",
      "           1       0.73      0.09      0.16       735\n",
      "\n",
      "    accuracy                           0.89      6554\n",
      "   macro avg       0.81      0.54      0.55      6554\n",
      "weighted avg       0.88      0.89      0.86      6554\n",
      "\n",
      "\n",
      "Label- shelter \n",
      "              precision    recall  f1-score   support\n",
      "\n",
      "           0       0.92      1.00      0.96      6001\n",
      "           1       0.65      0.05      0.09       553\n",
      "\n",
      "    accuracy                           0.92      6554\n",
      "   macro avg       0.79      0.52      0.53      6554\n",
      "weighted avg       0.90      0.92      0.88      6554\n",
      "\n",
      "\n",
      "Label- clothing \n",
      "              precision    recall  f1-score   support\n",
      "\n",
      "           0       0.98      1.00      0.99      6450\n",
      "           1       0.57      0.04      0.07       104\n",
      "\n",
      "    accuracy                           0.98      6554\n",
      "   macro avg       0.78      0.52      0.53      6554\n",
      "weighted avg       0.98      0.98      0.98      6554\n",
      "\n",
      "\n",
      "Label- money \n",
      "              precision    recall  f1-score   support\n",
      "\n",
      "           0       0.98      1.00      0.99      6404\n",
      "           1       0.50      0.01      0.03       150\n",
      "\n",
      "    accuracy                           0.98      6554\n",
      "   macro avg       0.74      0.51      0.51      6554\n",
      "weighted avg       0.97      0.98      0.97      6554\n",
      "\n",
      "\n",
      "Label- missing_people \n",
      "              precision    recall  f1-score   support\n",
      "\n",
      "           0       0.99      1.00      0.99      6483\n",
      "           1       0.00      0.00      0.00        71\n",
      "\n",
      "    accuracy                           0.99      6554\n",
      "   macro avg       0.49      0.50      0.50      6554\n",
      "weighted avg       0.98      0.99      0.98      6554\n",
      "\n",
      "\n",
      "Label- refugees \n",
      "              precision    recall  f1-score   support\n",
      "\n",
      "           0       0.97      1.00      0.98      6326\n",
      "           1       0.57      0.02      0.03       228\n",
      "\n",
      "    accuracy                           0.97      6554\n",
      "   macro avg       0.77      0.51      0.51      6554\n",
      "weighted avg       0.95      0.97      0.95      6554\n",
      "\n",
      "\n",
      "Label- death \n",
      "              precision    recall  f1-score   support\n",
      "\n",
      "           0       0.96      1.00      0.98      6270\n",
      "           1       0.69      0.03      0.06       284\n",
      "\n",
      "    accuracy                           0.96      6554\n",
      "   macro avg       0.83      0.52      0.52      6554\n",
      "weighted avg       0.95      0.96      0.94      6554\n",
      "\n",
      "\n",
      "Label- other_aid \n",
      "              precision    recall  f1-score   support\n",
      "\n",
      "           0       0.87      1.00      0.93      5667\n",
      "           1       0.42      0.02      0.04       887\n",
      "\n",
      "    accuracy                           0.86      6554\n",
      "   macro avg       0.64      0.51      0.48      6554\n",
      "weighted avg       0.81      0.86      0.81      6554\n",
      "\n",
      "\n",
      "Label- infrastructure_related \n",
      "              precision    recall  f1-score   support\n",
      "\n",
      "           0       0.94      1.00      0.97      6143\n",
      "           1       0.42      0.01      0.02       411\n",
      "\n",
      "    accuracy                           0.94      6554\n",
      "   macro avg       0.68      0.51      0.50      6554\n",
      "weighted avg       0.91      0.94      0.91      6554\n",
      "\n",
      "\n",
      "Label- transport \n",
      "              precision    recall  f1-score   support\n",
      "\n",
      "           0       0.96      1.00      0.98      6286\n",
      "           1       0.50      0.01      0.02       268\n",
      "\n",
      "    accuracy                           0.96      6554\n",
      "   macro avg       0.73      0.51      0.50      6554\n",
      "weighted avg       0.94      0.96      0.94      6554\n",
      "\n",
      "\n",
      "Label- buildings \n",
      "              precision    recall  f1-score   support\n",
      "\n",
      "           0       0.96      1.00      0.98      6256\n",
      "           1       0.41      0.03      0.06       298\n",
      "\n",
      "    accuracy                           0.95      6554\n",
      "   macro avg       0.68      0.51      0.52      6554\n",
      "weighted avg       0.93      0.95      0.93      6554\n",
      "\n",
      "\n",
      "Label- electricity \n",
      "              precision    recall  f1-score   support\n",
      "\n",
      "           0       0.98      1.00      0.99      6419\n",
      "           1       0.50      0.02      0.04       135\n",
      "\n",
      "    accuracy                           0.98      6554\n",
      "   macro avg       0.74      0.51      0.52      6554\n",
      "weighted avg       0.97      0.98      0.97      6554\n",
      "\n",
      "\n",
      "Label- tools \n",
      "              precision    recall  f1-score   support\n",
      "\n",
      "           0       0.99      1.00      1.00      6512\n",
      "           1       0.00      0.00      0.00        42\n",
      "\n",
      "    accuracy                           0.99      6554\n",
      "   macro avg       0.50      0.50      0.50      6554\n",
      "weighted avg       0.99      0.99      0.99      6554\n",
      "\n",
      "\n",
      "Label- hospitals \n"
     ]
    },
    {
     "name": "stderr",
     "output_type": "stream",
     "text": [
      "c:\\users\\pankhil\\appdata\\local\\programs\\python\\python36\\lib\\site-packages\\sklearn\\metrics\\_classification.py:1272: UndefinedMetricWarning: Precision and F-score are ill-defined and being set to 0.0 in labels with no predicted samples. Use `zero_division` parameter to control this behavior.\n",
      "  _warn_prf(average, modifier, msg_start, len(result))\n"
     ]
    },
    {
     "name": "stdout",
     "output_type": "stream",
     "text": [
      "              precision    recall  f1-score   support\n",
      "\n",
      "           0       0.99      1.00      1.00      6489\n",
      "           1       0.00      0.00      0.00        65\n",
      "\n",
      "    accuracy                           0.99      6554\n",
      "   macro avg       0.50      0.50      0.50      6554\n",
      "weighted avg       0.98      0.99      0.99      6554\n",
      "\n",
      "\n",
      "Label- shops \n",
      "              precision    recall  f1-score   support\n",
      "\n",
      "           0       1.00      1.00      1.00      6525\n",
      "           1       0.00      0.00      0.00        29\n",
      "\n",
      "    accuracy                           1.00      6554\n",
      "   macro avg       0.50      0.50      0.50      6554\n",
      "weighted avg       0.99      1.00      0.99      6554\n",
      "\n",
      "\n",
      "Label- aid_centers \n",
      "              precision    recall  f1-score   support\n",
      "\n",
      "           0       0.99      1.00      0.99      6478\n",
      "           1       0.00      0.00      0.00        76\n",
      "\n",
      "    accuracy                           0.99      6554\n",
      "   macro avg       0.49      0.50      0.50      6554\n",
      "weighted avg       0.98      0.99      0.98      6554\n",
      "\n",
      "\n",
      "Label- other_infrastructure \n",
      "              precision    recall  f1-score   support\n",
      "\n",
      "           0       0.96      1.00      0.98      6271\n",
      "           1       0.14      0.00      0.01       283\n",
      "\n",
      "    accuracy                           0.96      6554\n",
      "   macro avg       0.55      0.50      0.49      6554\n",
      "weighted avg       0.92      0.96      0.94      6554\n",
      "\n",
      "\n",
      "Label- weather_related \n",
      "              precision    recall  f1-score   support\n",
      "\n",
      "           0       0.73      0.99      0.84      4690\n",
      "           1       0.76      0.06      0.12      1864\n",
      "\n",
      "    accuracy                           0.73      6554\n",
      "   macro avg       0.74      0.53      0.48      6554\n",
      "weighted avg       0.74      0.73      0.63      6554\n",
      "\n",
      "\n",
      "Label- floods \n",
      "              precision    recall  f1-score   support\n",
      "\n",
      "           0       0.92      1.00      0.96      6039\n",
      "           1       0.79      0.02      0.04       515\n",
      "\n",
      "    accuracy                           0.92      6554\n",
      "   macro avg       0.85      0.51      0.50      6554\n",
      "weighted avg       0.91      0.92      0.89      6554\n",
      "\n",
      "\n",
      "Label- storm \n",
      "              precision    recall  f1-score   support\n",
      "\n",
      "           0       0.90      1.00      0.95      5908\n",
      "           1       0.67      0.02      0.04       646\n",
      "\n",
      "    accuracy                           0.90      6554\n",
      "   macro avg       0.78      0.51      0.50      6554\n",
      "weighted avg       0.88      0.90      0.86      6554\n",
      "\n",
      "\n",
      "Label- fire \n",
      "              precision    recall  f1-score   support\n",
      "\n",
      "           0       0.99      1.00      0.99      6487\n",
      "           1       0.00      0.00      0.00        67\n",
      "\n",
      "    accuracy                           0.99      6554\n",
      "   macro avg       0.49      0.50      0.50      6554\n",
      "weighted avg       0.98      0.99      0.98      6554\n",
      "\n",
      "\n",
      "Label- earthquake \n",
      "              precision    recall  f1-score   support\n",
      "\n",
      "           0       0.91      0.99      0.95      5910\n",
      "           1       0.73      0.13      0.22       644\n",
      "\n",
      "    accuracy                           0.91      6554\n",
      "   macro avg       0.82      0.56      0.59      6554\n",
      "weighted avg       0.89      0.91      0.88      6554\n",
      "\n",
      "\n",
      "Label- cold \n",
      "              precision    recall  f1-score   support\n",
      "\n",
      "           0       0.98      1.00      0.99      6415\n",
      "           1       1.00      0.02      0.04       139\n",
      "\n",
      "    accuracy                           0.98      6554\n",
      "   macro avg       0.99      0.51      0.52      6554\n",
      "weighted avg       0.98      0.98      0.97      6554\n",
      "\n",
      "\n",
      "Label- other_weather \n",
      "              precision    recall  f1-score   support\n",
      "\n",
      "           0       0.95      1.00      0.97      6226\n",
      "           1       0.42      0.02      0.03       328\n",
      "\n",
      "    accuracy                           0.95      6554\n",
      "   macro avg       0.68      0.51      0.50      6554\n",
      "weighted avg       0.92      0.95      0.93      6554\n",
      "\n",
      "\n",
      "Label- direct_report \n",
      "              precision    recall  f1-score   support\n",
      "\n",
      "           0       0.81      0.99      0.89      5249\n",
      "           1       0.72      0.08      0.14      1305\n",
      "\n",
      "    accuracy                           0.81      6554\n",
      "   macro avg       0.77      0.53      0.52      6554\n",
      "weighted avg       0.79      0.81      0.74      6554\n",
      "\n",
      "\n"
     ]
    }
   ],
   "source": [
    "y_pred = clf.predict(X_test)\n",
    "for i in range(y_pred.shape[1]):\n",
    "    print(\"Label- {} \".format(target_names[i]))\n",
    "    print(classification_report(y_test[:,i], y_pred[:,i]))\n",
    "    print(\"\")"
   ]
  },
  {
   "cell_type": "markdown",
   "metadata": {},
   "source": [
    "### 8. Try improving your model further. Here are a few ideas:\n",
    "* try other machine learning algorithms\n",
    "* add other features besides the TF-IDF"
   ]
  },
  {
   "cell_type": "code",
   "execution_count": 6,
   "metadata": {},
   "outputs": [],
   "source": [
    "from sklearn.linear_model import Perceptron\n",
    "from sklearn.multiclass import OneVsRestClassifier\n",
    "pipeline = Pipeline([\n",
    "                ('vect', CountVectorizer(tokenizer=tokenize)),\n",
    "                ('tfidf', TfidfTransformer()),\n",
    "                ('clf',MultiOutputClassifier(OneVsRestClassifier(Perceptron(tol=1e-3, random_state=0))))\n",
    "            ])\n"
   ]
  },
  {
   "cell_type": "code",
   "execution_count": 7,
   "metadata": {},
   "outputs": [
    {
     "name": "stderr",
     "output_type": "stream",
     "text": [
      "C:\\Users\\PANKHIL\\Anaconda3\\lib\\site-packages\\sklearn\\multiclass.py:75: UserWarning: Label not 0 is present in all training examples.\n",
      "  str(classes[c]))\n"
     ]
    },
    {
     "data": {
      "text/plain": [
       "Pipeline(memory=None,\n",
       "         steps=[('vect',\n",
       "                 CountVectorizer(analyzer='word', binary=False,\n",
       "                                 decode_error='strict',\n",
       "                                 dtype=<class 'numpy.int64'>, encoding='utf-8',\n",
       "                                 input='content', lowercase=True, max_df=1.0,\n",
       "                                 max_features=None, min_df=1,\n",
       "                                 ngram_range=(1, 1), preprocessor=None,\n",
       "                                 stop_words=None, strip_accents=None,\n",
       "                                 token_pattern='(?u)\\\\b\\\\w\\\\w+\\\\b',\n",
       "                                 tokenizer=<function tokenize at...\n",
       "                ('clf',\n",
       "                 MultiOutputClassifier(estimator=OneVsRestClassifier(estimator=Perceptron(alpha=0.0001,\n",
       "                                                                                          class_weight=None,\n",
       "                                                                                          early_stopping=False,\n",
       "                                                                                          eta0=1.0,\n",
       "                                                                                          fit_intercept=True,\n",
       "                                                                                          max_iter=1000,\n",
       "                                                                                          n_iter_no_change=5,\n",
       "                                                                                          n_jobs=None,\n",
       "                                                                                          penalty=None,\n",
       "                                                                                          random_state=0,\n",
       "                                                                                          shuffle=True,\n",
       "                                                                                          tol=0.001,\n",
       "                                                                                          validation_fraction=0.1,\n",
       "                                                                                          verbose=0,\n",
       "                                                                                          warm_start=False),\n",
       "                                                                     n_jobs=None),\n",
       "                                       n_jobs=None))],\n",
       "         verbose=False)"
      ]
     },
     "execution_count": 7,
     "metadata": {},
     "output_type": "execute_result"
    }
   ],
   "source": [
    "pipeline.fit(X_train, y_train)"
   ]
  },
  {
   "cell_type": "code",
   "execution_count": 35,
   "metadata": {},
   "outputs": [
    {
     "data": {
      "text/plain": [
       "['test.sav']"
      ]
     },
     "execution_count": 35,
     "metadata": {},
     "output_type": "execute_result"
    }
   ],
   "source": [
    "import joblib\n",
    "filename = 'test.sav'\n",
    "joblib.dump(pipeline, filename)\n"
   ]
  },
  {
   "cell_type": "code",
   "execution_count": 36,
   "metadata": {},
   "outputs": [],
   "source": [
    "loaded_model = joblib.load('test.sav')"
   ]
  },
  {
   "cell_type": "code",
   "execution_count": 37,
   "metadata": {},
   "outputs": [],
   "source": [
    "s = loaded_model.predict([''])"
   ]
  },
  {
   "cell_type": "code",
   "execution_count": 38,
   "metadata": {},
   "outputs": [
    {
     "data": {
      "text/plain": [
       "36"
      ]
     },
     "execution_count": 38,
     "metadata": {},
     "output_type": "execute_result"
    }
   ],
   "source": [
    "len(s[0])"
   ]
  },
  {
   "cell_type": "code",
   "execution_count": 39,
   "metadata": {},
   "outputs": [],
   "source": [
    "ind = np.where(s[0]==1)"
   ]
  },
  {
   "cell_type": "code",
   "execution_count": 40,
   "metadata": {},
   "outputs": [
    {
     "data": {
      "text/plain": [
       "(array([ 0,  1,  3, 10, 11, 12, 16, 26, 35], dtype=int64),)"
      ]
     },
     "execution_count": 40,
     "metadata": {},
     "output_type": "execute_result"
    }
   ],
   "source": [
    "ind"
   ]
  },
  {
   "cell_type": "code",
   "execution_count": 42,
   "metadata": {},
   "outputs": [
    {
     "name": "stdout",
     "output_type": "stream",
     "text": [
      "Index(['related', 'request', 'aid_related', 'water', 'food', 'shelter',\n",
      "       'refugees', 'aid_centers', 'direct_report'],\n",
      "      dtype='object')\n"
     ]
    }
   ],
   "source": [
    "for k in ind:\n",
    "    print(target_names[k])"
   ]
  },
  {
   "cell_type": "code",
   "execution_count": 18,
   "metadata": {},
   "outputs": [
    {
     "ename": "IndexError",
     "evalue": "only integers, slices (`:`), ellipsis (`...`), numpy.newaxis (`None`) and integer or boolean arrays are valid indices",
     "output_type": "error",
     "traceback": [
      "\u001b[1;31m---------------------------------------------------------------------------\u001b[0m",
      "\u001b[1;31mIndexError\u001b[0m                                Traceback (most recent call last)",
      "\u001b[1;32m<ipython-input-18-8ca132396c34>\u001b[0m in \u001b[0;36m<module>\u001b[1;34m\u001b[0m\n\u001b[1;32m----> 1\u001b[1;33m \u001b[0mY\u001b[0m\u001b[1;33m[\u001b[0m\u001b[1;34m'related'\u001b[0m\u001b[1;33m]\u001b[0m\u001b[1;33m=\u001b[0m\u001b[0mY\u001b[0m\u001b[1;33m[\u001b[0m\u001b[1;34m'related'\u001b[0m\u001b[1;33m]\u001b[0m\u001b[1;33m.\u001b[0m\u001b[0mmap\u001b[0m\u001b[1;33m(\u001b[0m\u001b[1;32mlambda\u001b[0m \u001b[0mx\u001b[0m\u001b[1;33m:\u001b[0m \u001b[1;36m1\u001b[0m \u001b[1;32mif\u001b[0m \u001b[0mx\u001b[0m \u001b[1;33m==\u001b[0m \u001b[1;36m2\u001b[0m \u001b[1;32melse\u001b[0m \u001b[0mx\u001b[0m\u001b[1;33m)\u001b[0m\u001b[1;33m\u001b[0m\u001b[1;33m\u001b[0m\u001b[0m\n\u001b[0m\u001b[0;32m      2\u001b[0m \u001b[0mcategory_names\u001b[0m \u001b[1;33m=\u001b[0m \u001b[0mY\u001b[0m\u001b[1;33m.\u001b[0m\u001b[0mcolumns\u001b[0m\u001b[1;33m\u001b[0m\u001b[1;33m\u001b[0m\u001b[0m\n",
      "\u001b[1;31mIndexError\u001b[0m: only integers, slices (`:`), ellipsis (`...`), numpy.newaxis (`None`) and integer or boolean arrays are valid indices"
     ]
    }
   ],
   "source": [
    "Y['related']=Y['related'].map(lambda x: 1 if x == 2 else x)\n",
    "category_names = Y.columns"
   ]
  },
  {
   "cell_type": "code",
   "execution_count": 81,
   "metadata": {},
   "outputs": [],
   "source": [
    "y_pred = pipeline.predict(X_test)"
   ]
  },
  {
   "cell_type": "code",
   "execution_count": 82,
   "metadata": {},
   "outputs": [
    {
     "name": "stdout",
     "output_type": "stream",
     "text": [
      "Label- related \n",
      "              precision    recall  f1-score   support\n",
      "\n",
      "           0       0.57      0.48      0.52      1589\n",
      "           1       0.84      0.88      0.86      4930\n",
      "           2       0.44      0.43      0.43        35\n",
      "\n",
      "    accuracy                           0.78      6554\n",
      "   macro avg       0.61      0.60      0.60      6554\n",
      "weighted avg       0.77      0.78      0.77      6554\n",
      "\n",
      "\n",
      "Label- request \n",
      "              precision    recall  f1-score   support\n",
      "\n",
      "           0       0.91      0.93      0.92      5499\n",
      "           1       0.58      0.49      0.53      1055\n",
      "\n",
      "    accuracy                           0.86      6554\n",
      "   macro avg       0.74      0.71      0.73      6554\n",
      "weighted avg       0.85      0.86      0.86      6554\n",
      "\n",
      "\n",
      "Label- offer \n",
      "              precision    recall  f1-score   support\n",
      "\n",
      "           0       0.99      1.00      1.00      6514\n",
      "           1       0.06      0.03      0.04        40\n",
      "\n",
      "    accuracy                           0.99      6554\n",
      "   macro avg       0.53      0.51      0.52      6554\n",
      "weighted avg       0.99      0.99      0.99      6554\n",
      "\n",
      "\n",
      "Label- aid_related \n",
      "              precision    recall  f1-score   support\n",
      "\n",
      "           0       0.77      0.71      0.74      3895\n",
      "           1       0.62      0.70      0.66      2659\n",
      "\n",
      "    accuracy                           0.70      6554\n",
      "   macro avg       0.70      0.70      0.70      6554\n",
      "weighted avg       0.71      0.70      0.71      6554\n",
      "\n",
      "\n",
      "Label- medical_help \n",
      "              precision    recall  f1-score   support\n",
      "\n",
      "           0       0.94      0.95      0.95      6012\n",
      "           1       0.37      0.33      0.35       542\n",
      "\n",
      "    accuracy                           0.90      6554\n",
      "   macro avg       0.66      0.64      0.65      6554\n",
      "weighted avg       0.89      0.90      0.90      6554\n",
      "\n",
      "\n",
      "Label- medical_products \n",
      "              precision    recall  f1-score   support\n",
      "\n",
      "           0       0.96      0.98      0.97      6212\n",
      "           1       0.44      0.29      0.35       342\n",
      "\n",
      "    accuracy                           0.94      6554\n",
      "   macro avg       0.70      0.64      0.66      6554\n",
      "weighted avg       0.93      0.94      0.94      6554\n",
      "\n",
      "\n",
      "Label- search_and_rescue \n",
      "              precision    recall  f1-score   support\n",
      "\n",
      "           0       0.98      0.99      0.98      6356\n",
      "           1       0.35      0.24      0.28       198\n",
      "\n",
      "    accuracy                           0.96      6554\n",
      "   macro avg       0.66      0.61      0.63      6554\n",
      "weighted avg       0.96      0.96      0.96      6554\n",
      "\n",
      "\n",
      "Label- security \n",
      "              precision    recall  f1-score   support\n",
      "\n",
      "           0       0.98      0.99      0.99      6433\n",
      "           1       0.10      0.07      0.08       121\n",
      "\n",
      "    accuracy                           0.97      6554\n",
      "   macro avg       0.54      0.53      0.53      6554\n",
      "weighted avg       0.97      0.97      0.97      6554\n",
      "\n",
      "\n",
      "Label- military \n",
      "              precision    recall  f1-score   support\n",
      "\n",
      "           0       0.98      0.98      0.98      6349\n",
      "           1       0.40      0.36      0.38       205\n",
      "\n",
      "    accuracy                           0.96      6554\n",
      "   macro avg       0.69      0.67      0.68      6554\n",
      "weighted avg       0.96      0.96      0.96      6554\n",
      "\n",
      "\n",
      "Label- child_alone \n",
      "              precision    recall  f1-score   support\n",
      "\n",
      "           0       1.00      1.00      1.00      6554\n",
      "\n",
      "    accuracy                           1.00      6554\n",
      "   macro avg       1.00      1.00      1.00      6554\n",
      "weighted avg       1.00      1.00      1.00      6554\n",
      "\n",
      "\n",
      "Label- water \n",
      "              precision    recall  f1-score   support\n",
      "\n",
      "           0       0.97      0.98      0.98      6134\n",
      "           1       0.66      0.57      0.61       420\n",
      "\n",
      "    accuracy                           0.95      6554\n",
      "   macro avg       0.81      0.78      0.79      6554\n",
      "weighted avg       0.95      0.95      0.95      6554\n",
      "\n",
      "\n",
      "Label- food \n",
      "              precision    recall  f1-score   support\n",
      "\n",
      "           0       0.96      0.96      0.96      5844\n",
      "           1       0.68      0.69      0.68       710\n",
      "\n",
      "    accuracy                           0.93      6554\n",
      "   macro avg       0.82      0.82      0.82      6554\n",
      "weighted avg       0.93      0.93      0.93      6554\n",
      "\n",
      "\n",
      "Label- shelter \n",
      "              precision    recall  f1-score   support\n",
      "\n",
      "           0       0.96      0.97      0.96      5993\n",
      "           1       0.61      0.53      0.56       561\n",
      "\n",
      "    accuracy                           0.93      6554\n",
      "   macro avg       0.78      0.75      0.76      6554\n",
      "weighted avg       0.93      0.93      0.93      6554\n",
      "\n",
      "\n",
      "Label- clothing \n",
      "              precision    recall  f1-score   support\n",
      "\n",
      "           0       0.99      0.99      0.99      6466\n",
      "           1       0.35      0.31      0.33        88\n",
      "\n",
      "    accuracy                           0.98      6554\n",
      "   macro avg       0.67      0.65      0.66      6554\n",
      "weighted avg       0.98      0.98      0.98      6554\n",
      "\n",
      "\n",
      "Label- money \n",
      "              precision    recall  f1-score   support\n",
      "\n",
      "           0       0.99      0.98      0.98      6428\n",
      "           1       0.25      0.33      0.28       126\n",
      "\n",
      "    accuracy                           0.97      6554\n",
      "   macro avg       0.62      0.65      0.63      6554\n",
      "weighted avg       0.97      0.97      0.97      6554\n",
      "\n",
      "\n",
      "Label- missing_people \n",
      "              precision    recall  f1-score   support\n",
      "\n",
      "           0       0.99      0.99      0.99      6471\n",
      "           1       0.22      0.13      0.17        83\n",
      "\n",
      "    accuracy                           0.98      6554\n",
      "   macro avg       0.60      0.56      0.58      6554\n",
      "weighted avg       0.98      0.98      0.98      6554\n",
      "\n",
      "\n",
      "Label- refugees \n",
      "              precision    recall  f1-score   support\n",
      "\n",
      "           0       0.98      0.98      0.98      6342\n",
      "           1       0.35      0.28      0.31       212\n",
      "\n",
      "    accuracy                           0.96      6554\n",
      "   macro avg       0.66      0.63      0.65      6554\n",
      "weighted avg       0.96      0.96      0.96      6554\n",
      "\n",
      "\n",
      "Label- death \n",
      "              precision    recall  f1-score   support\n",
      "\n",
      "           0       0.97      0.98      0.97      6226\n",
      "           1       0.52      0.49      0.50       328\n",
      "\n",
      "    accuracy                           0.95      6554\n",
      "   macro avg       0.75      0.73      0.74      6554\n",
      "weighted avg       0.95      0.95      0.95      6554\n",
      "\n",
      "\n",
      "Label- other_aid \n",
      "              precision    recall  f1-score   support\n",
      "\n",
      "           0       0.90      0.87      0.89      5709\n",
      "           1       0.30      0.37      0.33       845\n",
      "\n",
      "    accuracy                           0.81      6554\n",
      "   macro avg       0.60      0.62      0.61      6554\n",
      "weighted avg       0.82      0.81      0.81      6554\n",
      "\n",
      "\n",
      "Label- infrastructure_related \n",
      "              precision    recall  f1-score   support\n",
      "\n",
      "           0       0.95      0.93      0.94      6150\n",
      "           1       0.20      0.26      0.23       404\n",
      "\n",
      "    accuracy                           0.89      6554\n",
      "   macro avg       0.57      0.60      0.58      6554\n",
      "weighted avg       0.90      0.89      0.90      6554\n",
      "\n",
      "\n",
      "Label- transport \n",
      "              precision    recall  f1-score   support\n",
      "\n",
      "           0       0.97      0.97      0.97      6249\n",
      "           1       0.30      0.30      0.30       305\n",
      "\n",
      "    accuracy                           0.94      6554\n",
      "   macro avg       0.64      0.63      0.63      6554\n",
      "weighted avg       0.94      0.94      0.94      6554\n",
      "\n",
      "\n",
      "Label- buildings \n",
      "              precision    recall  f1-score   support\n",
      "\n",
      "           0       0.97      0.96      0.97      6248\n",
      "           1       0.37      0.45      0.41       306\n",
      "\n",
      "    accuracy                           0.94      6554\n",
      "   macro avg       0.67      0.71      0.69      6554\n",
      "weighted avg       0.94      0.94      0.94      6554\n",
      "\n",
      "\n",
      "Label- electricity \n",
      "              precision    recall  f1-score   support\n",
      "\n",
      "           0       0.99      0.99      0.99      6426\n",
      "           1       0.33      0.37      0.35       128\n",
      "\n",
      "    accuracy                           0.97      6554\n",
      "   macro avg       0.66      0.68      0.67      6554\n",
      "weighted avg       0.97      0.97      0.97      6554\n",
      "\n",
      "\n",
      "Label- tools \n",
      "              precision    recall  f1-score   support\n",
      "\n",
      "           0       0.99      1.00      1.00      6508\n",
      "           1       0.00      0.00      0.00        46\n",
      "\n",
      "    accuracy                           0.99      6554\n",
      "   macro avg       0.50      0.50      0.50      6554\n",
      "weighted avg       0.99      0.99      0.99      6554\n",
      "\n",
      "\n",
      "Label- hospitals \n",
      "              precision    recall  f1-score   support\n",
      "\n",
      "           0       0.99      0.99      0.99      6493\n",
      "           1       0.28      0.23      0.25        61\n",
      "\n",
      "    accuracy                           0.99      6554\n",
      "   macro avg       0.64      0.61      0.62      6554\n",
      "weighted avg       0.99      0.99      0.99      6554\n",
      "\n",
      "\n",
      "Label- shops \n",
      "              precision    recall  f1-score   support\n",
      "\n",
      "           0       1.00      1.00      1.00      6529\n",
      "           1       0.00      0.00      0.00        25\n",
      "\n",
      "    accuracy                           0.99      6554\n",
      "   macro avg       0.50      0.50      0.50      6554\n",
      "weighted avg       0.99      0.99      0.99      6554\n",
      "\n",
      "\n",
      "Label- aid_centers \n",
      "              precision    recall  f1-score   support\n",
      "\n",
      "           0       0.99      0.99      0.99      6489\n",
      "           1       0.15      0.09      0.12        65\n",
      "\n",
      "    accuracy                           0.99      6554\n",
      "   macro avg       0.57      0.54      0.55      6554\n",
      "weighted avg       0.98      0.99      0.98      6554\n",
      "\n",
      "\n",
      "Label- other_infrastructure \n",
      "              precision    recall  f1-score   support\n",
      "\n",
      "           0       0.96      0.98      0.97      6274\n",
      "           1       0.16      0.10      0.12       280\n",
      "\n",
      "    accuracy                           0.94      6554\n",
      "   macro avg       0.56      0.54      0.55      6554\n",
      "weighted avg       0.93      0.94      0.93      6554\n",
      "\n",
      "\n",
      "Label- weather_related \n",
      "              precision    recall  f1-score   support\n",
      "\n",
      "           0       0.89      0.87      0.88      4708\n",
      "           1       0.69      0.71      0.70      1846\n",
      "\n",
      "    accuracy                           0.83      6554\n",
      "   macro avg       0.79      0.79      0.79      6554\n",
      "weighted avg       0.83      0.83      0.83      6554\n",
      "\n",
      "\n",
      "Label- floods \n",
      "              precision    recall  f1-score   support\n",
      "\n",
      "           0       0.96      0.97      0.97      6016\n",
      "           1       0.64      0.53      0.58       538\n",
      "\n",
      "    accuracy                           0.94      6554\n",
      "   macro avg       0.80      0.75      0.77      6554\n",
      "weighted avg       0.93      0.94      0.93      6554\n",
      "\n",
      "\n",
      "Label- storm \n",
      "              precision    recall  f1-score   support\n",
      "\n",
      "           0       0.95      0.97      0.96      5934\n",
      "           1       0.63      0.53      0.57       620\n",
      "\n",
      "    accuracy                           0.93      6554\n",
      "   macro avg       0.79      0.75      0.77      6554\n",
      "weighted avg       0.92      0.93      0.92      6554\n",
      "\n",
      "\n",
      "Label- fire \n",
      "              precision    recall  f1-score   support\n",
      "\n",
      "           0       0.99      1.00      1.00      6485\n",
      "           1       0.57      0.33      0.42        69\n",
      "\n",
      "    accuracy                           0.99      6554\n",
      "   macro avg       0.78      0.67      0.71      6554\n",
      "weighted avg       0.99      0.99      0.99      6554\n",
      "\n",
      "\n",
      "Label- earthquake \n",
      "              precision    recall  f1-score   support\n",
      "\n",
      "           0       0.97      0.98      0.97      5906\n",
      "           1       0.78      0.74      0.76       648\n",
      "\n",
      "    accuracy                           0.95      6554\n",
      "   macro avg       0.88      0.86      0.87      6554\n",
      "weighted avg       0.95      0.95      0.95      6554\n",
      "\n",
      "\n",
      "Label- cold \n",
      "              precision    recall  f1-score   support\n",
      "\n",
      "           0       0.99      0.99      0.99      6425\n",
      "           1       0.53      0.36      0.43       129\n",
      "\n",
      "    accuracy                           0.98      6554\n",
      "   macro avg       0.76      0.68      0.71      6554\n",
      "weighted avg       0.98      0.98      0.98      6554\n",
      "\n",
      "\n",
      "Label- other_weather \n",
      "              precision    recall  f1-score   support\n",
      "\n",
      "           0       0.96      0.95      0.96      6253\n",
      "           1       0.19      0.25      0.22       301\n",
      "\n",
      "    accuracy                           0.92      6554\n",
      "   macro avg       0.58      0.60      0.59      6554\n",
      "weighted avg       0.93      0.92      0.92      6554\n",
      "\n",
      "\n",
      "Label- direct_report \n",
      "              precision    recall  f1-score   support\n",
      "\n",
      "           0       0.89      0.88      0.88      5303\n",
      "           1       0.51      0.53      0.52      1251\n",
      "\n",
      "    accuracy                           0.81      6554\n",
      "   macro avg       0.70      0.71      0.70      6554\n",
      "weighted avg       0.82      0.81      0.82      6554\n",
      "\n",
      "\n"
     ]
    }
   ],
   "source": [
    "for i in range(y_pred.shape[1]):\n",
    "    print(\"Label- {} \".format(category_names[i]))\n",
    "    print(classification_report(y_test[:,i], y_pred[:,i],))\n",
    "    print(\"\")"
   ]
  },
  {
   "cell_type": "code",
   "execution_count": 33,
   "metadata": {},
   "outputs": [
    {
     "data": {
      "text/plain": [
       "['Percentron.pkl']"
      ]
     },
     "execution_count": 33,
     "metadata": {},
     "output_type": "execute_result"
    }
   ],
   "source": [
    "import joblib\n",
    "joblib.dump(clf, 'Percentron.pkl')"
   ]
  },
  {
   "cell_type": "code",
   "execution_count": 26,
   "metadata": {},
   "outputs": [],
   "source": [
    "\n",
    "parameters = {\n",
    "    'clf__estimator__estimator__alpha':[0.0003, 0.001, 0.003, 0.01, 0.1],\n",
    "    'clf__estimator__estimator__n_iter_no_change':[5, 10, 15, 20, 50]\n",
    "\n",
    "}\n",
    "clf = GridSearchCV(pipeline, parameters,verbose=3,cv=3)"
   ]
  },
  {
   "cell_type": "code",
   "execution_count": 27,
   "metadata": {},
   "outputs": [
    {
     "name": "stdout",
     "output_type": "stream",
     "text": [
      "Fitting 3 folds for each of 25 candidates, totalling 75 fits\n",
      "[CV] clf__estimator__estimator__alpha=0.0003, clf__estimator__estimator__n_iter_no_change=5 \n"
     ]
    },
    {
     "name": "stderr",
     "output_type": "stream",
     "text": [
      "[Parallel(n_jobs=1)]: Using backend SequentialBackend with 1 concurrent workers.\n",
      "c:\\users\\pankhil\\appdata\\local\\programs\\python\\python36\\lib\\site-packages\\sklearn\\multiclass.py:75: UserWarning: Label not 0 is present in all training examples.\n",
      "  str(classes[c]))\n"
     ]
    },
    {
     "name": "stdout",
     "output_type": "stream",
     "text": [
      "[CV]  clf__estimator__estimator__alpha=0.0003, clf__estimator__estimator__n_iter_no_change=5, score=0.171, total=   8.2s\n",
      "[CV] clf__estimator__estimator__alpha=0.0003, clf__estimator__estimator__n_iter_no_change=5 \n"
     ]
    },
    {
     "name": "stderr",
     "output_type": "stream",
     "text": [
      "[Parallel(n_jobs=1)]: Done   1 out of   1 | elapsed:    8.1s remaining:    0.0s\n",
      "c:\\users\\pankhil\\appdata\\local\\programs\\python\\python36\\lib\\site-packages\\sklearn\\multiclass.py:75: UserWarning: Label not 0 is present in all training examples.\n",
      "  str(classes[c]))\n"
     ]
    },
    {
     "name": "stdout",
     "output_type": "stream",
     "text": [
      "[CV]  clf__estimator__estimator__alpha=0.0003, clf__estimator__estimator__n_iter_no_change=5, score=0.174, total=   7.8s\n",
      "[CV] clf__estimator__estimator__alpha=0.0003, clf__estimator__estimator__n_iter_no_change=5 \n"
     ]
    },
    {
     "name": "stderr",
     "output_type": "stream",
     "text": [
      "[Parallel(n_jobs=1)]: Done   2 out of   2 | elapsed:   15.9s remaining:    0.0s\n",
      "c:\\users\\pankhil\\appdata\\local\\programs\\python\\python36\\lib\\site-packages\\sklearn\\multiclass.py:75: UserWarning: Label not 0 is present in all training examples.\n",
      "  str(classes[c]))\n"
     ]
    },
    {
     "name": "stdout",
     "output_type": "stream",
     "text": [
      "[CV]  clf__estimator__estimator__alpha=0.0003, clf__estimator__estimator__n_iter_no_change=5, score=0.169, total=   8.3s\n",
      "[CV] clf__estimator__estimator__alpha=0.0003, clf__estimator__estimator__n_iter_no_change=10 \n"
     ]
    },
    {
     "name": "stderr",
     "output_type": "stream",
     "text": [
      "c:\\users\\pankhil\\appdata\\local\\programs\\python\\python36\\lib\\site-packages\\sklearn\\multiclass.py:75: UserWarning: Label not 0 is present in all training examples.\n",
      "  str(classes[c]))\n"
     ]
    },
    {
     "name": "stdout",
     "output_type": "stream",
     "text": [
      "[CV]  clf__estimator__estimator__alpha=0.0003, clf__estimator__estimator__n_iter_no_change=10, score=0.180, total=   8.4s\n",
      "[CV] clf__estimator__estimator__alpha=0.0003, clf__estimator__estimator__n_iter_no_change=10 \n"
     ]
    },
    {
     "name": "stderr",
     "output_type": "stream",
     "text": [
      "c:\\users\\pankhil\\appdata\\local\\programs\\python\\python36\\lib\\site-packages\\sklearn\\multiclass.py:75: UserWarning: Label not 0 is present in all training examples.\n",
      "  str(classes[c]))\n"
     ]
    },
    {
     "name": "stdout",
     "output_type": "stream",
     "text": [
      "[CV]  clf__estimator__estimator__alpha=0.0003, clf__estimator__estimator__n_iter_no_change=10, score=0.173, total=   8.5s\n",
      "[CV] clf__estimator__estimator__alpha=0.0003, clf__estimator__estimator__n_iter_no_change=10 \n"
     ]
    },
    {
     "name": "stderr",
     "output_type": "stream",
     "text": [
      "c:\\users\\pankhil\\appdata\\local\\programs\\python\\python36\\lib\\site-packages\\sklearn\\multiclass.py:75: UserWarning: Label not 0 is present in all training examples.\n",
      "  str(classes[c]))\n"
     ]
    },
    {
     "name": "stdout",
     "output_type": "stream",
     "text": [
      "[CV]  clf__estimator__estimator__alpha=0.0003, clf__estimator__estimator__n_iter_no_change=10, score=0.169, total=   7.6s\n",
      "[CV] clf__estimator__estimator__alpha=0.0003, clf__estimator__estimator__n_iter_no_change=15 \n"
     ]
    },
    {
     "name": "stderr",
     "output_type": "stream",
     "text": [
      "c:\\users\\pankhil\\appdata\\local\\programs\\python\\python36\\lib\\site-packages\\sklearn\\multiclass.py:75: UserWarning: Label not 0 is present in all training examples.\n",
      "  str(classes[c]))\n"
     ]
    },
    {
     "name": "stdout",
     "output_type": "stream",
     "text": [
      "[CV]  clf__estimator__estimator__alpha=0.0003, clf__estimator__estimator__n_iter_no_change=15, score=0.170, total=   7.9s\n",
      "[CV] clf__estimator__estimator__alpha=0.0003, clf__estimator__estimator__n_iter_no_change=15 \n"
     ]
    },
    {
     "name": "stderr",
     "output_type": "stream",
     "text": [
      "c:\\users\\pankhil\\appdata\\local\\programs\\python\\python36\\lib\\site-packages\\sklearn\\multiclass.py:75: UserWarning: Label not 0 is present in all training examples.\n",
      "  str(classes[c]))\n"
     ]
    },
    {
     "name": "stdout",
     "output_type": "stream",
     "text": [
      "[CV]  clf__estimator__estimator__alpha=0.0003, clf__estimator__estimator__n_iter_no_change=15, score=0.178, total=   8.2s\n",
      "[CV] clf__estimator__estimator__alpha=0.0003, clf__estimator__estimator__n_iter_no_change=15 \n"
     ]
    },
    {
     "name": "stderr",
     "output_type": "stream",
     "text": [
      "c:\\users\\pankhil\\appdata\\local\\programs\\python\\python36\\lib\\site-packages\\sklearn\\multiclass.py:75: UserWarning: Label not 0 is present in all training examples.\n",
      "  str(classes[c]))\n"
     ]
    },
    {
     "name": "stdout",
     "output_type": "stream",
     "text": [
      "[CV]  clf__estimator__estimator__alpha=0.0003, clf__estimator__estimator__n_iter_no_change=15, score=0.170, total=   8.0s\n",
      "[CV] clf__estimator__estimator__alpha=0.0003, clf__estimator__estimator__n_iter_no_change=20 \n"
     ]
    },
    {
     "name": "stderr",
     "output_type": "stream",
     "text": [
      "c:\\users\\pankhil\\appdata\\local\\programs\\python\\python36\\lib\\site-packages\\sklearn\\multiclass.py:75: UserWarning: Label not 0 is present in all training examples.\n",
      "  str(classes[c]))\n"
     ]
    },
    {
     "name": "stdout",
     "output_type": "stream",
     "text": [
      "[CV]  clf__estimator__estimator__alpha=0.0003, clf__estimator__estimator__n_iter_no_change=20, score=0.180, total=   8.1s\n",
      "[CV] clf__estimator__estimator__alpha=0.0003, clf__estimator__estimator__n_iter_no_change=20 \n"
     ]
    },
    {
     "name": "stderr",
     "output_type": "stream",
     "text": [
      "c:\\users\\pankhil\\appdata\\local\\programs\\python\\python36\\lib\\site-packages\\sklearn\\multiclass.py:75: UserWarning: Label not 0 is present in all training examples.\n",
      "  str(classes[c]))\n"
     ]
    },
    {
     "name": "stdout",
     "output_type": "stream",
     "text": [
      "[CV]  clf__estimator__estimator__alpha=0.0003, clf__estimator__estimator__n_iter_no_change=20, score=0.171, total=   8.5s\n",
      "[CV] clf__estimator__estimator__alpha=0.0003, clf__estimator__estimator__n_iter_no_change=20 \n"
     ]
    },
    {
     "name": "stderr",
     "output_type": "stream",
     "text": [
      "c:\\users\\pankhil\\appdata\\local\\programs\\python\\python36\\lib\\site-packages\\sklearn\\multiclass.py:75: UserWarning: Label not 0 is present in all training examples.\n",
      "  str(classes[c]))\n"
     ]
    },
    {
     "name": "stdout",
     "output_type": "stream",
     "text": [
      "[CV]  clf__estimator__estimator__alpha=0.0003, clf__estimator__estimator__n_iter_no_change=20, score=0.165, total=   9.0s\n",
      "[CV] clf__estimator__estimator__alpha=0.0003, clf__estimator__estimator__n_iter_no_change=50 \n"
     ]
    },
    {
     "name": "stderr",
     "output_type": "stream",
     "text": [
      "c:\\users\\pankhil\\appdata\\local\\programs\\python\\python36\\lib\\site-packages\\sklearn\\multiclass.py:75: UserWarning: Label not 0 is present in all training examples.\n",
      "  str(classes[c]))\n"
     ]
    },
    {
     "name": "stdout",
     "output_type": "stream",
     "text": [
      "[CV]  clf__estimator__estimator__alpha=0.0003, clf__estimator__estimator__n_iter_no_change=50, score=0.170, total=  10.2s\n",
      "[CV] clf__estimator__estimator__alpha=0.0003, clf__estimator__estimator__n_iter_no_change=50 \n"
     ]
    },
    {
     "name": "stderr",
     "output_type": "stream",
     "text": [
      "c:\\users\\pankhil\\appdata\\local\\programs\\python\\python36\\lib\\site-packages\\sklearn\\multiclass.py:75: UserWarning: Label not 0 is present in all training examples.\n",
      "  str(classes[c]))\n"
     ]
    },
    {
     "name": "stdout",
     "output_type": "stream",
     "text": [
      "[CV]  clf__estimator__estimator__alpha=0.0003, clf__estimator__estimator__n_iter_no_change=50, score=0.168, total=  10.8s\n",
      "[CV] clf__estimator__estimator__alpha=0.0003, clf__estimator__estimator__n_iter_no_change=50 \n"
     ]
    },
    {
     "name": "stderr",
     "output_type": "stream",
     "text": [
      "c:\\users\\pankhil\\appdata\\local\\programs\\python\\python36\\lib\\site-packages\\sklearn\\multiclass.py:75: UserWarning: Label not 0 is present in all training examples.\n",
      "  str(classes[c]))\n"
     ]
    },
    {
     "name": "stdout",
     "output_type": "stream",
     "text": [
      "[CV]  clf__estimator__estimator__alpha=0.0003, clf__estimator__estimator__n_iter_no_change=50, score=0.163, total=  10.3s\n",
      "[CV] clf__estimator__estimator__alpha=0.001, clf__estimator__estimator__n_iter_no_change=5 \n"
     ]
    },
    {
     "name": "stderr",
     "output_type": "stream",
     "text": [
      "c:\\users\\pankhil\\appdata\\local\\programs\\python\\python36\\lib\\site-packages\\sklearn\\multiclass.py:75: UserWarning: Label not 0 is present in all training examples.\n",
      "  str(classes[c]))\n"
     ]
    },
    {
     "name": "stdout",
     "output_type": "stream",
     "text": [
      "[CV]  clf__estimator__estimator__alpha=0.001, clf__estimator__estimator__n_iter_no_change=5, score=0.171, total=   8.2s\n",
      "[CV] clf__estimator__estimator__alpha=0.001, clf__estimator__estimator__n_iter_no_change=5 \n"
     ]
    },
    {
     "name": "stderr",
     "output_type": "stream",
     "text": [
      "c:\\users\\pankhil\\appdata\\local\\programs\\python\\python36\\lib\\site-packages\\sklearn\\multiclass.py:75: UserWarning: Label not 0 is present in all training examples.\n",
      "  str(classes[c]))\n"
     ]
    },
    {
     "name": "stdout",
     "output_type": "stream",
     "text": [
      "[CV]  clf__estimator__estimator__alpha=0.001, clf__estimator__estimator__n_iter_no_change=5, score=0.174, total=   8.4s\n",
      "[CV] clf__estimator__estimator__alpha=0.001, clf__estimator__estimator__n_iter_no_change=5 \n"
     ]
    },
    {
     "name": "stderr",
     "output_type": "stream",
     "text": [
      "c:\\users\\pankhil\\appdata\\local\\programs\\python\\python36\\lib\\site-packages\\sklearn\\multiclass.py:75: UserWarning: Label not 0 is present in all training examples.\n",
      "  str(classes[c]))\n"
     ]
    },
    {
     "name": "stdout",
     "output_type": "stream",
     "text": [
      "[CV]  clf__estimator__estimator__alpha=0.001, clf__estimator__estimator__n_iter_no_change=5, score=0.169, total=   8.2s\n",
      "[CV] clf__estimator__estimator__alpha=0.001, clf__estimator__estimator__n_iter_no_change=10 \n"
     ]
    },
    {
     "name": "stderr",
     "output_type": "stream",
     "text": [
      "c:\\users\\pankhil\\appdata\\local\\programs\\python\\python36\\lib\\site-packages\\sklearn\\multiclass.py:75: UserWarning: Label not 0 is present in all training examples.\n",
      "  str(classes[c]))\n"
     ]
    },
    {
     "name": "stdout",
     "output_type": "stream",
     "text": [
      "[CV]  clf__estimator__estimator__alpha=0.001, clf__estimator__estimator__n_iter_no_change=10, score=0.180, total=   8.1s\n",
      "[CV] clf__estimator__estimator__alpha=0.001, clf__estimator__estimator__n_iter_no_change=10 \n"
     ]
    },
    {
     "name": "stderr",
     "output_type": "stream",
     "text": [
      "c:\\users\\pankhil\\appdata\\local\\programs\\python\\python36\\lib\\site-packages\\sklearn\\multiclass.py:75: UserWarning: Label not 0 is present in all training examples.\n",
      "  str(classes[c]))\n"
     ]
    },
    {
     "name": "stdout",
     "output_type": "stream",
     "text": [
      "[CV]  clf__estimator__estimator__alpha=0.001, clf__estimator__estimator__n_iter_no_change=10, score=0.173, total=   8.8s\n",
      "[CV] clf__estimator__estimator__alpha=0.001, clf__estimator__estimator__n_iter_no_change=10 \n"
     ]
    },
    {
     "name": "stderr",
     "output_type": "stream",
     "text": [
      "c:\\users\\pankhil\\appdata\\local\\programs\\python\\python36\\lib\\site-packages\\sklearn\\multiclass.py:75: UserWarning: Label not 0 is present in all training examples.\n",
      "  str(classes[c]))\n"
     ]
    },
    {
     "name": "stdout",
     "output_type": "stream",
     "text": [
      "[CV]  clf__estimator__estimator__alpha=0.001, clf__estimator__estimator__n_iter_no_change=10, score=0.169, total=   8.0s\n",
      "[CV] clf__estimator__estimator__alpha=0.001, clf__estimator__estimator__n_iter_no_change=15 \n"
     ]
    },
    {
     "name": "stderr",
     "output_type": "stream",
     "text": [
      "c:\\users\\pankhil\\appdata\\local\\programs\\python\\python36\\lib\\site-packages\\sklearn\\multiclass.py:75: UserWarning: Label not 0 is present in all training examples.\n",
      "  str(classes[c]))\n"
     ]
    },
    {
     "name": "stdout",
     "output_type": "stream",
     "text": [
      "[CV]  clf__estimator__estimator__alpha=0.001, clf__estimator__estimator__n_iter_no_change=15, score=0.170, total=   8.3s\n",
      "[CV] clf__estimator__estimator__alpha=0.001, clf__estimator__estimator__n_iter_no_change=15 \n"
     ]
    },
    {
     "name": "stderr",
     "output_type": "stream",
     "text": [
      "c:\\users\\pankhil\\appdata\\local\\programs\\python\\python36\\lib\\site-packages\\sklearn\\multiclass.py:75: UserWarning: Label not 0 is present in all training examples.\n",
      "  str(classes[c]))\n"
     ]
    },
    {
     "name": "stdout",
     "output_type": "stream",
     "text": [
      "[CV]  clf__estimator__estimator__alpha=0.001, clf__estimator__estimator__n_iter_no_change=15, score=0.178, total=   8.3s\n",
      "[CV] clf__estimator__estimator__alpha=0.001, clf__estimator__estimator__n_iter_no_change=15 \n"
     ]
    },
    {
     "name": "stderr",
     "output_type": "stream",
     "text": [
      "c:\\users\\pankhil\\appdata\\local\\programs\\python\\python36\\lib\\site-packages\\sklearn\\multiclass.py:75: UserWarning: Label not 0 is present in all training examples.\n",
      "  str(classes[c]))\n"
     ]
    },
    {
     "name": "stdout",
     "output_type": "stream",
     "text": [
      "[CV]  clf__estimator__estimator__alpha=0.001, clf__estimator__estimator__n_iter_no_change=15, score=0.170, total=   8.7s\n",
      "[CV] clf__estimator__estimator__alpha=0.001, clf__estimator__estimator__n_iter_no_change=20 \n"
     ]
    },
    {
     "name": "stderr",
     "output_type": "stream",
     "text": [
      "c:\\users\\pankhil\\appdata\\local\\programs\\python\\python36\\lib\\site-packages\\sklearn\\multiclass.py:75: UserWarning: Label not 0 is present in all training examples.\n",
      "  str(classes[c]))\n"
     ]
    },
    {
     "name": "stdout",
     "output_type": "stream",
     "text": [
      "[CV]  clf__estimator__estimator__alpha=0.001, clf__estimator__estimator__n_iter_no_change=20, score=0.180, total=   8.5s\n",
      "[CV] clf__estimator__estimator__alpha=0.001, clf__estimator__estimator__n_iter_no_change=20 \n"
     ]
    },
    {
     "name": "stderr",
     "output_type": "stream",
     "text": [
      "c:\\users\\pankhil\\appdata\\local\\programs\\python\\python36\\lib\\site-packages\\sklearn\\multiclass.py:75: UserWarning: Label not 0 is present in all training examples.\n",
      "  str(classes[c]))\n"
     ]
    },
    {
     "name": "stdout",
     "output_type": "stream",
     "text": [
      "[CV]  clf__estimator__estimator__alpha=0.001, clf__estimator__estimator__n_iter_no_change=20, score=0.171, total=   9.8s\n",
      "[CV] clf__estimator__estimator__alpha=0.001, clf__estimator__estimator__n_iter_no_change=20 \n"
     ]
    },
    {
     "name": "stderr",
     "output_type": "stream",
     "text": [
      "c:\\users\\pankhil\\appdata\\local\\programs\\python\\python36\\lib\\site-packages\\sklearn\\multiclass.py:75: UserWarning: Label not 0 is present in all training examples.\n",
      "  str(classes[c]))\n"
     ]
    },
    {
     "name": "stdout",
     "output_type": "stream",
     "text": [
      "[CV]  clf__estimator__estimator__alpha=0.001, clf__estimator__estimator__n_iter_no_change=20, score=0.165, total=  12.4s\n",
      "[CV] clf__estimator__estimator__alpha=0.001, clf__estimator__estimator__n_iter_no_change=50 \n"
     ]
    },
    {
     "name": "stderr",
     "output_type": "stream",
     "text": [
      "c:\\users\\pankhil\\appdata\\local\\programs\\python\\python36\\lib\\site-packages\\sklearn\\multiclass.py:75: UserWarning: Label not 0 is present in all training examples.\n",
      "  str(classes[c]))\n"
     ]
    },
    {
     "name": "stdout",
     "output_type": "stream",
     "text": [
      "[CV]  clf__estimator__estimator__alpha=0.001, clf__estimator__estimator__n_iter_no_change=50, score=0.170, total=  12.3s\n",
      "[CV] clf__estimator__estimator__alpha=0.001, clf__estimator__estimator__n_iter_no_change=50 \n"
     ]
    },
    {
     "name": "stderr",
     "output_type": "stream",
     "text": [
      "c:\\users\\pankhil\\appdata\\local\\programs\\python\\python36\\lib\\site-packages\\sklearn\\multiclass.py:75: UserWarning: Label not 0 is present in all training examples.\n",
      "  str(classes[c]))\n"
     ]
    },
    {
     "name": "stdout",
     "output_type": "stream",
     "text": [
      "[CV]  clf__estimator__estimator__alpha=0.001, clf__estimator__estimator__n_iter_no_change=50, score=0.168, total=  10.9s\n",
      "[CV] clf__estimator__estimator__alpha=0.001, clf__estimator__estimator__n_iter_no_change=50 \n"
     ]
    },
    {
     "name": "stderr",
     "output_type": "stream",
     "text": [
      "c:\\users\\pankhil\\appdata\\local\\programs\\python\\python36\\lib\\site-packages\\sklearn\\multiclass.py:75: UserWarning: Label not 0 is present in all training examples.\n",
      "  str(classes[c]))\n"
     ]
    },
    {
     "name": "stdout",
     "output_type": "stream",
     "text": [
      "[CV]  clf__estimator__estimator__alpha=0.001, clf__estimator__estimator__n_iter_no_change=50, score=0.163, total=  10.0s\n",
      "[CV] clf__estimator__estimator__alpha=0.003, clf__estimator__estimator__n_iter_no_change=5 \n"
     ]
    },
    {
     "name": "stderr",
     "output_type": "stream",
     "text": [
      "c:\\users\\pankhil\\appdata\\local\\programs\\python\\python36\\lib\\site-packages\\sklearn\\multiclass.py:75: UserWarning: Label not 0 is present in all training examples.\n",
      "  str(classes[c]))\n"
     ]
    },
    {
     "name": "stdout",
     "output_type": "stream",
     "text": [
      "[CV]  clf__estimator__estimator__alpha=0.003, clf__estimator__estimator__n_iter_no_change=5, score=0.171, total=   8.2s\n",
      "[CV] clf__estimator__estimator__alpha=0.003, clf__estimator__estimator__n_iter_no_change=5 \n"
     ]
    },
    {
     "name": "stderr",
     "output_type": "stream",
     "text": [
      "c:\\users\\pankhil\\appdata\\local\\programs\\python\\python36\\lib\\site-packages\\sklearn\\multiclass.py:75: UserWarning: Label not 0 is present in all training examples.\n",
      "  str(classes[c]))\n"
     ]
    },
    {
     "name": "stdout",
     "output_type": "stream",
     "text": [
      "[CV]  clf__estimator__estimator__alpha=0.003, clf__estimator__estimator__n_iter_no_change=5, score=0.174, total=   8.2s\n",
      "[CV] clf__estimator__estimator__alpha=0.003, clf__estimator__estimator__n_iter_no_change=5 \n"
     ]
    },
    {
     "name": "stderr",
     "output_type": "stream",
     "text": [
      "c:\\users\\pankhil\\appdata\\local\\programs\\python\\python36\\lib\\site-packages\\sklearn\\multiclass.py:75: UserWarning: Label not 0 is present in all training examples.\n",
      "  str(classes[c]))\n"
     ]
    },
    {
     "name": "stdout",
     "output_type": "stream",
     "text": [
      "[CV]  clf__estimator__estimator__alpha=0.003, clf__estimator__estimator__n_iter_no_change=5, score=0.169, total=   8.2s\n",
      "[CV] clf__estimator__estimator__alpha=0.003, clf__estimator__estimator__n_iter_no_change=10 \n"
     ]
    },
    {
     "name": "stderr",
     "output_type": "stream",
     "text": [
      "c:\\users\\pankhil\\appdata\\local\\programs\\python\\python36\\lib\\site-packages\\sklearn\\multiclass.py:75: UserWarning: Label not 0 is present in all training examples.\n",
      "  str(classes[c]))\n"
     ]
    },
    {
     "name": "stdout",
     "output_type": "stream",
     "text": [
      "[CV]  clf__estimator__estimator__alpha=0.003, clf__estimator__estimator__n_iter_no_change=10, score=0.180, total=   8.6s\n",
      "[CV] clf__estimator__estimator__alpha=0.003, clf__estimator__estimator__n_iter_no_change=10 \n"
     ]
    },
    {
     "name": "stderr",
     "output_type": "stream",
     "text": [
      "c:\\users\\pankhil\\appdata\\local\\programs\\python\\python36\\lib\\site-packages\\sklearn\\multiclass.py:75: UserWarning: Label not 0 is present in all training examples.\n",
      "  str(classes[c]))\n"
     ]
    },
    {
     "name": "stdout",
     "output_type": "stream",
     "text": [
      "[CV]  clf__estimator__estimator__alpha=0.003, clf__estimator__estimator__n_iter_no_change=10, score=0.173, total=   8.3s\n",
      "[CV] clf__estimator__estimator__alpha=0.003, clf__estimator__estimator__n_iter_no_change=10 \n"
     ]
    },
    {
     "name": "stderr",
     "output_type": "stream",
     "text": [
      "c:\\users\\pankhil\\appdata\\local\\programs\\python\\python36\\lib\\site-packages\\sklearn\\multiclass.py:75: UserWarning: Label not 0 is present in all training examples.\n",
      "  str(classes[c]))\n"
     ]
    },
    {
     "name": "stdout",
     "output_type": "stream",
     "text": [
      "[CV]  clf__estimator__estimator__alpha=0.003, clf__estimator__estimator__n_iter_no_change=10, score=0.169, total=   8.3s\n",
      "[CV] clf__estimator__estimator__alpha=0.003, clf__estimator__estimator__n_iter_no_change=15 \n"
     ]
    },
    {
     "name": "stderr",
     "output_type": "stream",
     "text": [
      "c:\\users\\pankhil\\appdata\\local\\programs\\python\\python36\\lib\\site-packages\\sklearn\\multiclass.py:75: UserWarning: Label not 0 is present in all training examples.\n",
      "  str(classes[c]))\n"
     ]
    },
    {
     "name": "stdout",
     "output_type": "stream",
     "text": [
      "[CV]  clf__estimator__estimator__alpha=0.003, clf__estimator__estimator__n_iter_no_change=15, score=0.170, total=   8.4s\n",
      "[CV] clf__estimator__estimator__alpha=0.003, clf__estimator__estimator__n_iter_no_change=15 \n"
     ]
    },
    {
     "name": "stderr",
     "output_type": "stream",
     "text": [
      "c:\\users\\pankhil\\appdata\\local\\programs\\python\\python36\\lib\\site-packages\\sklearn\\multiclass.py:75: UserWarning: Label not 0 is present in all training examples.\n",
      "  str(classes[c]))\n"
     ]
    },
    {
     "name": "stdout",
     "output_type": "stream",
     "text": [
      "[CV]  clf__estimator__estimator__alpha=0.003, clf__estimator__estimator__n_iter_no_change=15, score=0.178, total=   8.4s\n",
      "[CV] clf__estimator__estimator__alpha=0.003, clf__estimator__estimator__n_iter_no_change=15 \n"
     ]
    },
    {
     "name": "stderr",
     "output_type": "stream",
     "text": [
      "c:\\users\\pankhil\\appdata\\local\\programs\\python\\python36\\lib\\site-packages\\sklearn\\multiclass.py:75: UserWarning: Label not 0 is present in all training examples.\n",
      "  str(classes[c]))\n"
     ]
    },
    {
     "name": "stdout",
     "output_type": "stream",
     "text": [
      "[CV]  clf__estimator__estimator__alpha=0.003, clf__estimator__estimator__n_iter_no_change=15, score=0.170, total=   8.3s\n",
      "[CV] clf__estimator__estimator__alpha=0.003, clf__estimator__estimator__n_iter_no_change=20 \n"
     ]
    },
    {
     "name": "stderr",
     "output_type": "stream",
     "text": [
      "c:\\users\\pankhil\\appdata\\local\\programs\\python\\python36\\lib\\site-packages\\sklearn\\multiclass.py:75: UserWarning: Label not 0 is present in all training examples.\n",
      "  str(classes[c]))\n"
     ]
    },
    {
     "name": "stdout",
     "output_type": "stream",
     "text": [
      "[CV]  clf__estimator__estimator__alpha=0.003, clf__estimator__estimator__n_iter_no_change=20, score=0.180, total=   8.7s\n",
      "[CV] clf__estimator__estimator__alpha=0.003, clf__estimator__estimator__n_iter_no_change=20 \n"
     ]
    },
    {
     "name": "stderr",
     "output_type": "stream",
     "text": [
      "c:\\users\\pankhil\\appdata\\local\\programs\\python\\python36\\lib\\site-packages\\sklearn\\multiclass.py:75: UserWarning: Label not 0 is present in all training examples.\n",
      "  str(classes[c]))\n"
     ]
    },
    {
     "name": "stdout",
     "output_type": "stream",
     "text": [
      "[CV]  clf__estimator__estimator__alpha=0.003, clf__estimator__estimator__n_iter_no_change=20, score=0.171, total=   8.7s\n",
      "[CV] clf__estimator__estimator__alpha=0.003, clf__estimator__estimator__n_iter_no_change=20 \n"
     ]
    },
    {
     "name": "stderr",
     "output_type": "stream",
     "text": [
      "c:\\users\\pankhil\\appdata\\local\\programs\\python\\python36\\lib\\site-packages\\sklearn\\multiclass.py:75: UserWarning: Label not 0 is present in all training examples.\n",
      "  str(classes[c]))\n"
     ]
    },
    {
     "name": "stdout",
     "output_type": "stream",
     "text": [
      "[CV]  clf__estimator__estimator__alpha=0.003, clf__estimator__estimator__n_iter_no_change=20, score=0.165, total=   8.5s\n",
      "[CV] clf__estimator__estimator__alpha=0.003, clf__estimator__estimator__n_iter_no_change=50 \n"
     ]
    },
    {
     "name": "stderr",
     "output_type": "stream",
     "text": [
      "c:\\users\\pankhil\\appdata\\local\\programs\\python\\python36\\lib\\site-packages\\sklearn\\multiclass.py:75: UserWarning: Label not 0 is present in all training examples.\n",
      "  str(classes[c]))\n"
     ]
    },
    {
     "name": "stdout",
     "output_type": "stream",
     "text": [
      "[CV]  clf__estimator__estimator__alpha=0.003, clf__estimator__estimator__n_iter_no_change=50, score=0.170, total=   9.7s\n",
      "[CV] clf__estimator__estimator__alpha=0.003, clf__estimator__estimator__n_iter_no_change=50 \n"
     ]
    },
    {
     "name": "stderr",
     "output_type": "stream",
     "text": [
      "c:\\users\\pankhil\\appdata\\local\\programs\\python\\python36\\lib\\site-packages\\sklearn\\multiclass.py:75: UserWarning: Label not 0 is present in all training examples.\n",
      "  str(classes[c]))\n"
     ]
    },
    {
     "name": "stdout",
     "output_type": "stream",
     "text": [
      "[CV]  clf__estimator__estimator__alpha=0.003, clf__estimator__estimator__n_iter_no_change=50, score=0.168, total=  10.2s\n",
      "[CV] clf__estimator__estimator__alpha=0.003, clf__estimator__estimator__n_iter_no_change=50 \n"
     ]
    },
    {
     "name": "stderr",
     "output_type": "stream",
     "text": [
      "c:\\users\\pankhil\\appdata\\local\\programs\\python\\python36\\lib\\site-packages\\sklearn\\multiclass.py:75: UserWarning: Label not 0 is present in all training examples.\n",
      "  str(classes[c]))\n"
     ]
    },
    {
     "name": "stdout",
     "output_type": "stream",
     "text": [
      "[CV]  clf__estimator__estimator__alpha=0.003, clf__estimator__estimator__n_iter_no_change=50, score=0.163, total=   9.9s\n",
      "[CV] clf__estimator__estimator__alpha=0.01, clf__estimator__estimator__n_iter_no_change=5 \n"
     ]
    },
    {
     "name": "stderr",
     "output_type": "stream",
     "text": [
      "c:\\users\\pankhil\\appdata\\local\\programs\\python\\python36\\lib\\site-packages\\sklearn\\multiclass.py:75: UserWarning: Label not 0 is present in all training examples.\n",
      "  str(classes[c]))\n"
     ]
    },
    {
     "name": "stdout",
     "output_type": "stream",
     "text": [
      "[CV]  clf__estimator__estimator__alpha=0.01, clf__estimator__estimator__n_iter_no_change=5, score=0.171, total=   7.8s\n",
      "[CV] clf__estimator__estimator__alpha=0.01, clf__estimator__estimator__n_iter_no_change=5 \n"
     ]
    },
    {
     "name": "stderr",
     "output_type": "stream",
     "text": [
      "c:\\users\\pankhil\\appdata\\local\\programs\\python\\python36\\lib\\site-packages\\sklearn\\multiclass.py:75: UserWarning: Label not 0 is present in all training examples.\n",
      "  str(classes[c]))\n"
     ]
    },
    {
     "name": "stdout",
     "output_type": "stream",
     "text": [
      "[CV]  clf__estimator__estimator__alpha=0.01, clf__estimator__estimator__n_iter_no_change=5, score=0.174, total=   8.3s\n",
      "[CV] clf__estimator__estimator__alpha=0.01, clf__estimator__estimator__n_iter_no_change=5 \n"
     ]
    },
    {
     "name": "stderr",
     "output_type": "stream",
     "text": [
      "c:\\users\\pankhil\\appdata\\local\\programs\\python\\python36\\lib\\site-packages\\sklearn\\multiclass.py:75: UserWarning: Label not 0 is present in all training examples.\n",
      "  str(classes[c]))\n"
     ]
    },
    {
     "name": "stdout",
     "output_type": "stream",
     "text": [
      "[CV]  clf__estimator__estimator__alpha=0.01, clf__estimator__estimator__n_iter_no_change=5, score=0.169, total=   8.0s\n",
      "[CV] clf__estimator__estimator__alpha=0.01, clf__estimator__estimator__n_iter_no_change=10 \n"
     ]
    },
    {
     "name": "stderr",
     "output_type": "stream",
     "text": [
      "c:\\users\\pankhil\\appdata\\local\\programs\\python\\python36\\lib\\site-packages\\sklearn\\multiclass.py:75: UserWarning: Label not 0 is present in all training examples.\n",
      "  str(classes[c]))\n"
     ]
    },
    {
     "name": "stdout",
     "output_type": "stream",
     "text": [
      "[CV]  clf__estimator__estimator__alpha=0.01, clf__estimator__estimator__n_iter_no_change=10, score=0.180, total=   8.3s\n",
      "[CV] clf__estimator__estimator__alpha=0.01, clf__estimator__estimator__n_iter_no_change=10 \n"
     ]
    },
    {
     "name": "stderr",
     "output_type": "stream",
     "text": [
      "c:\\users\\pankhil\\appdata\\local\\programs\\python\\python36\\lib\\site-packages\\sklearn\\multiclass.py:75: UserWarning: Label not 0 is present in all training examples.\n",
      "  str(classes[c]))\n"
     ]
    },
    {
     "name": "stdout",
     "output_type": "stream",
     "text": [
      "[CV]  clf__estimator__estimator__alpha=0.01, clf__estimator__estimator__n_iter_no_change=10, score=0.173, total=   8.1s\n",
      "[CV] clf__estimator__estimator__alpha=0.01, clf__estimator__estimator__n_iter_no_change=10 \n"
     ]
    },
    {
     "name": "stderr",
     "output_type": "stream",
     "text": [
      "c:\\users\\pankhil\\appdata\\local\\programs\\python\\python36\\lib\\site-packages\\sklearn\\multiclass.py:75: UserWarning: Label not 0 is present in all training examples.\n",
      "  str(classes[c]))\n"
     ]
    },
    {
     "name": "stdout",
     "output_type": "stream",
     "text": [
      "[CV]  clf__estimator__estimator__alpha=0.01, clf__estimator__estimator__n_iter_no_change=10, score=0.169, total=   8.2s\n",
      "[CV] clf__estimator__estimator__alpha=0.01, clf__estimator__estimator__n_iter_no_change=15 \n"
     ]
    },
    {
     "name": "stderr",
     "output_type": "stream",
     "text": [
      "c:\\users\\pankhil\\appdata\\local\\programs\\python\\python36\\lib\\site-packages\\sklearn\\multiclass.py:75: UserWarning: Label not 0 is present in all training examples.\n",
      "  str(classes[c]))\n"
     ]
    },
    {
     "name": "stdout",
     "output_type": "stream",
     "text": [
      "[CV]  clf__estimator__estimator__alpha=0.01, clf__estimator__estimator__n_iter_no_change=15, score=0.170, total=   8.5s\n",
      "[CV] clf__estimator__estimator__alpha=0.01, clf__estimator__estimator__n_iter_no_change=15 \n"
     ]
    },
    {
     "name": "stderr",
     "output_type": "stream",
     "text": [
      "c:\\users\\pankhil\\appdata\\local\\programs\\python\\python36\\lib\\site-packages\\sklearn\\multiclass.py:75: UserWarning: Label not 0 is present in all training examples.\n",
      "  str(classes[c]))\n"
     ]
    },
    {
     "name": "stdout",
     "output_type": "stream",
     "text": [
      "[CV]  clf__estimator__estimator__alpha=0.01, clf__estimator__estimator__n_iter_no_change=15, score=0.178, total=   8.1s\n",
      "[CV] clf__estimator__estimator__alpha=0.01, clf__estimator__estimator__n_iter_no_change=15 \n"
     ]
    },
    {
     "name": "stderr",
     "output_type": "stream",
     "text": [
      "c:\\users\\pankhil\\appdata\\local\\programs\\python\\python36\\lib\\site-packages\\sklearn\\multiclass.py:75: UserWarning: Label not 0 is present in all training examples.\n",
      "  str(classes[c]))\n"
     ]
    },
    {
     "name": "stdout",
     "output_type": "stream",
     "text": [
      "[CV]  clf__estimator__estimator__alpha=0.01, clf__estimator__estimator__n_iter_no_change=15, score=0.170, total=   8.7s\n",
      "[CV] clf__estimator__estimator__alpha=0.01, clf__estimator__estimator__n_iter_no_change=20 \n"
     ]
    },
    {
     "name": "stderr",
     "output_type": "stream",
     "text": [
      "c:\\users\\pankhil\\appdata\\local\\programs\\python\\python36\\lib\\site-packages\\sklearn\\multiclass.py:75: UserWarning: Label not 0 is present in all training examples.\n",
      "  str(classes[c]))\n"
     ]
    },
    {
     "name": "stdout",
     "output_type": "stream",
     "text": [
      "[CV]  clf__estimator__estimator__alpha=0.01, clf__estimator__estimator__n_iter_no_change=20, score=0.180, total=   8.7s\n",
      "[CV] clf__estimator__estimator__alpha=0.01, clf__estimator__estimator__n_iter_no_change=20 \n"
     ]
    },
    {
     "name": "stderr",
     "output_type": "stream",
     "text": [
      "c:\\users\\pankhil\\appdata\\local\\programs\\python\\python36\\lib\\site-packages\\sklearn\\multiclass.py:75: UserWarning: Label not 0 is present in all training examples.\n",
      "  str(classes[c]))\n"
     ]
    },
    {
     "name": "stdout",
     "output_type": "stream",
     "text": [
      "[CV]  clf__estimator__estimator__alpha=0.01, clf__estimator__estimator__n_iter_no_change=20, score=0.171, total=   9.4s\n",
      "[CV] clf__estimator__estimator__alpha=0.01, clf__estimator__estimator__n_iter_no_change=20 \n"
     ]
    },
    {
     "name": "stderr",
     "output_type": "stream",
     "text": [
      "c:\\users\\pankhil\\appdata\\local\\programs\\python\\python36\\lib\\site-packages\\sklearn\\multiclass.py:75: UserWarning: Label not 0 is present in all training examples.\n",
      "  str(classes[c]))\n"
     ]
    },
    {
     "name": "stdout",
     "output_type": "stream",
     "text": [
      "[CV]  clf__estimator__estimator__alpha=0.01, clf__estimator__estimator__n_iter_no_change=20, score=0.165, total=   8.9s\n",
      "[CV] clf__estimator__estimator__alpha=0.01, clf__estimator__estimator__n_iter_no_change=50 \n"
     ]
    },
    {
     "name": "stderr",
     "output_type": "stream",
     "text": [
      "c:\\users\\pankhil\\appdata\\local\\programs\\python\\python36\\lib\\site-packages\\sklearn\\multiclass.py:75: UserWarning: Label not 0 is present in all training examples.\n",
      "  str(classes[c]))\n"
     ]
    },
    {
     "name": "stdout",
     "output_type": "stream",
     "text": [
      "[CV]  clf__estimator__estimator__alpha=0.01, clf__estimator__estimator__n_iter_no_change=50, score=0.170, total=  10.5s\n",
      "[CV] clf__estimator__estimator__alpha=0.01, clf__estimator__estimator__n_iter_no_change=50 \n"
     ]
    },
    {
     "name": "stderr",
     "output_type": "stream",
     "text": [
      "c:\\users\\pankhil\\appdata\\local\\programs\\python\\python36\\lib\\site-packages\\sklearn\\multiclass.py:75: UserWarning: Label not 0 is present in all training examples.\n",
      "  str(classes[c]))\n"
     ]
    },
    {
     "name": "stdout",
     "output_type": "stream",
     "text": [
      "[CV]  clf__estimator__estimator__alpha=0.01, clf__estimator__estimator__n_iter_no_change=50, score=0.168, total=  10.0s\n",
      "[CV] clf__estimator__estimator__alpha=0.01, clf__estimator__estimator__n_iter_no_change=50 \n"
     ]
    },
    {
     "name": "stderr",
     "output_type": "stream",
     "text": [
      "c:\\users\\pankhil\\appdata\\local\\programs\\python\\python36\\lib\\site-packages\\sklearn\\multiclass.py:75: UserWarning: Label not 0 is present in all training examples.\n",
      "  str(classes[c]))\n"
     ]
    },
    {
     "name": "stdout",
     "output_type": "stream",
     "text": [
      "[CV]  clf__estimator__estimator__alpha=0.01, clf__estimator__estimator__n_iter_no_change=50, score=0.163, total=   9.9s\n",
      "[CV] clf__estimator__estimator__alpha=0.1, clf__estimator__estimator__n_iter_no_change=5 \n"
     ]
    },
    {
     "name": "stderr",
     "output_type": "stream",
     "text": [
      "c:\\users\\pankhil\\appdata\\local\\programs\\python\\python36\\lib\\site-packages\\sklearn\\multiclass.py:75: UserWarning: Label not 0 is present in all training examples.\n",
      "  str(classes[c]))\n"
     ]
    },
    {
     "name": "stdout",
     "output_type": "stream",
     "text": [
      "[CV]  clf__estimator__estimator__alpha=0.1, clf__estimator__estimator__n_iter_no_change=5, score=0.171, total=   8.0s\n",
      "[CV] clf__estimator__estimator__alpha=0.1, clf__estimator__estimator__n_iter_no_change=5 \n"
     ]
    },
    {
     "name": "stderr",
     "output_type": "stream",
     "text": [
      "c:\\users\\pankhil\\appdata\\local\\programs\\python\\python36\\lib\\site-packages\\sklearn\\multiclass.py:75: UserWarning: Label not 0 is present in all training examples.\n",
      "  str(classes[c]))\n"
     ]
    },
    {
     "name": "stdout",
     "output_type": "stream",
     "text": [
      "[CV]  clf__estimator__estimator__alpha=0.1, clf__estimator__estimator__n_iter_no_change=5, score=0.174, total=   8.7s\n",
      "[CV] clf__estimator__estimator__alpha=0.1, clf__estimator__estimator__n_iter_no_change=5 \n"
     ]
    },
    {
     "name": "stderr",
     "output_type": "stream",
     "text": [
      "c:\\users\\pankhil\\appdata\\local\\programs\\python\\python36\\lib\\site-packages\\sklearn\\multiclass.py:75: UserWarning: Label not 0 is present in all training examples.\n",
      "  str(classes[c]))\n"
     ]
    },
    {
     "name": "stdout",
     "output_type": "stream",
     "text": [
      "[CV]  clf__estimator__estimator__alpha=0.1, clf__estimator__estimator__n_iter_no_change=5, score=0.169, total=   8.0s\n",
      "[CV] clf__estimator__estimator__alpha=0.1, clf__estimator__estimator__n_iter_no_change=10 \n"
     ]
    },
    {
     "name": "stderr",
     "output_type": "stream",
     "text": [
      "c:\\users\\pankhil\\appdata\\local\\programs\\python\\python36\\lib\\site-packages\\sklearn\\multiclass.py:75: UserWarning: Label not 0 is present in all training examples.\n",
      "  str(classes[c]))\n"
     ]
    },
    {
     "name": "stdout",
     "output_type": "stream",
     "text": [
      "[CV]  clf__estimator__estimator__alpha=0.1, clf__estimator__estimator__n_iter_no_change=10, score=0.180, total=   8.0s\n",
      "[CV] clf__estimator__estimator__alpha=0.1, clf__estimator__estimator__n_iter_no_change=10 \n"
     ]
    },
    {
     "name": "stderr",
     "output_type": "stream",
     "text": [
      "c:\\users\\pankhil\\appdata\\local\\programs\\python\\python36\\lib\\site-packages\\sklearn\\multiclass.py:75: UserWarning: Label not 0 is present in all training examples.\n",
      "  str(classes[c]))\n"
     ]
    },
    {
     "name": "stdout",
     "output_type": "stream",
     "text": [
      "[CV]  clf__estimator__estimator__alpha=0.1, clf__estimator__estimator__n_iter_no_change=10, score=0.173, total=   7.9s\n",
      "[CV] clf__estimator__estimator__alpha=0.1, clf__estimator__estimator__n_iter_no_change=10 \n"
     ]
    },
    {
     "name": "stderr",
     "output_type": "stream",
     "text": [
      "c:\\users\\pankhil\\appdata\\local\\programs\\python\\python36\\lib\\site-packages\\sklearn\\multiclass.py:75: UserWarning: Label not 0 is present in all training examples.\n",
      "  str(classes[c]))\n"
     ]
    },
    {
     "name": "stdout",
     "output_type": "stream",
     "text": [
      "[CV]  clf__estimator__estimator__alpha=0.1, clf__estimator__estimator__n_iter_no_change=10, score=0.169, total=   7.9s\n",
      "[CV] clf__estimator__estimator__alpha=0.1, clf__estimator__estimator__n_iter_no_change=15 \n"
     ]
    },
    {
     "name": "stderr",
     "output_type": "stream",
     "text": [
      "c:\\users\\pankhil\\appdata\\local\\programs\\python\\python36\\lib\\site-packages\\sklearn\\multiclass.py:75: UserWarning: Label not 0 is present in all training examples.\n",
      "  str(classes[c]))\n"
     ]
    },
    {
     "name": "stdout",
     "output_type": "stream",
     "text": [
      "[CV]  clf__estimator__estimator__alpha=0.1, clf__estimator__estimator__n_iter_no_change=15, score=0.170, total=   8.5s\n",
      "[CV] clf__estimator__estimator__alpha=0.1, clf__estimator__estimator__n_iter_no_change=15 \n"
     ]
    },
    {
     "name": "stderr",
     "output_type": "stream",
     "text": [
      "c:\\users\\pankhil\\appdata\\local\\programs\\python\\python36\\lib\\site-packages\\sklearn\\multiclass.py:75: UserWarning: Label not 0 is present in all training examples.\n",
      "  str(classes[c]))\n"
     ]
    },
    {
     "name": "stdout",
     "output_type": "stream",
     "text": [
      "[CV]  clf__estimator__estimator__alpha=0.1, clf__estimator__estimator__n_iter_no_change=15, score=0.178, total=   8.4s\n",
      "[CV] clf__estimator__estimator__alpha=0.1, clf__estimator__estimator__n_iter_no_change=15 \n"
     ]
    },
    {
     "name": "stderr",
     "output_type": "stream",
     "text": [
      "c:\\users\\pankhil\\appdata\\local\\programs\\python\\python36\\lib\\site-packages\\sklearn\\multiclass.py:75: UserWarning: Label not 0 is present in all training examples.\n",
      "  str(classes[c]))\n"
     ]
    },
    {
     "name": "stdout",
     "output_type": "stream",
     "text": [
      "[CV]  clf__estimator__estimator__alpha=0.1, clf__estimator__estimator__n_iter_no_change=15, score=0.170, total=   8.4s\n",
      "[CV] clf__estimator__estimator__alpha=0.1, clf__estimator__estimator__n_iter_no_change=20 \n"
     ]
    },
    {
     "name": "stderr",
     "output_type": "stream",
     "text": [
      "c:\\users\\pankhil\\appdata\\local\\programs\\python\\python36\\lib\\site-packages\\sklearn\\multiclass.py:75: UserWarning: Label not 0 is present in all training examples.\n",
      "  str(classes[c]))\n"
     ]
    },
    {
     "name": "stdout",
     "output_type": "stream",
     "text": [
      "[CV]  clf__estimator__estimator__alpha=0.1, clf__estimator__estimator__n_iter_no_change=20, score=0.180, total=   8.7s\n",
      "[CV] clf__estimator__estimator__alpha=0.1, clf__estimator__estimator__n_iter_no_change=20 \n"
     ]
    },
    {
     "name": "stderr",
     "output_type": "stream",
     "text": [
      "c:\\users\\pankhil\\appdata\\local\\programs\\python\\python36\\lib\\site-packages\\sklearn\\multiclass.py:75: UserWarning: Label not 0 is present in all training examples.\n",
      "  str(classes[c]))\n"
     ]
    },
    {
     "name": "stdout",
     "output_type": "stream",
     "text": [
      "[CV]  clf__estimator__estimator__alpha=0.1, clf__estimator__estimator__n_iter_no_change=20, score=0.171, total=   8.5s\n",
      "[CV] clf__estimator__estimator__alpha=0.1, clf__estimator__estimator__n_iter_no_change=20 \n"
     ]
    },
    {
     "name": "stderr",
     "output_type": "stream",
     "text": [
      "c:\\users\\pankhil\\appdata\\local\\programs\\python\\python36\\lib\\site-packages\\sklearn\\multiclass.py:75: UserWarning: Label not 0 is present in all training examples.\n",
      "  str(classes[c]))\n"
     ]
    },
    {
     "name": "stdout",
     "output_type": "stream",
     "text": [
      "[CV]  clf__estimator__estimator__alpha=0.1, clf__estimator__estimator__n_iter_no_change=20, score=0.165, total=   9.2s\n",
      "[CV] clf__estimator__estimator__alpha=0.1, clf__estimator__estimator__n_iter_no_change=50 \n"
     ]
    },
    {
     "name": "stderr",
     "output_type": "stream",
     "text": [
      "c:\\users\\pankhil\\appdata\\local\\programs\\python\\python36\\lib\\site-packages\\sklearn\\multiclass.py:75: UserWarning: Label not 0 is present in all training examples.\n",
      "  str(classes[c]))\n"
     ]
    },
    {
     "name": "stdout",
     "output_type": "stream",
     "text": [
      "[CV]  clf__estimator__estimator__alpha=0.1, clf__estimator__estimator__n_iter_no_change=50, score=0.170, total=  11.5s\n",
      "[CV] clf__estimator__estimator__alpha=0.1, clf__estimator__estimator__n_iter_no_change=50 \n"
     ]
    },
    {
     "name": "stderr",
     "output_type": "stream",
     "text": [
      "c:\\users\\pankhil\\appdata\\local\\programs\\python\\python36\\lib\\site-packages\\sklearn\\multiclass.py:75: UserWarning: Label not 0 is present in all training examples.\n",
      "  str(classes[c]))\n"
     ]
    },
    {
     "name": "stdout",
     "output_type": "stream",
     "text": [
      "[CV]  clf__estimator__estimator__alpha=0.1, clf__estimator__estimator__n_iter_no_change=50, score=0.168, total=  11.2s\n",
      "[CV] clf__estimator__estimator__alpha=0.1, clf__estimator__estimator__n_iter_no_change=50 \n"
     ]
    },
    {
     "name": "stderr",
     "output_type": "stream",
     "text": [
      "c:\\users\\pankhil\\appdata\\local\\programs\\python\\python36\\lib\\site-packages\\sklearn\\multiclass.py:75: UserWarning: Label not 0 is present in all training examples.\n",
      "  str(classes[c]))\n"
     ]
    },
    {
     "name": "stdout",
     "output_type": "stream",
     "text": [
      "[CV]  clf__estimator__estimator__alpha=0.1, clf__estimator__estimator__n_iter_no_change=50, score=0.163, total=  11.7s\n"
     ]
    },
    {
     "name": "stderr",
     "output_type": "stream",
     "text": [
      "[Parallel(n_jobs=1)]: Done  75 out of  75 | elapsed: 11.1min finished\n",
      "c:\\users\\pankhil\\appdata\\local\\programs\\python\\python36\\lib\\site-packages\\sklearn\\multiclass.py:75: UserWarning: Label not 0 is present in all training examples.\n",
      "  str(classes[c]))\n"
     ]
    },
    {
     "data": {
      "text/plain": [
       "GridSearchCV(cv=3, error_score=nan,\n",
       "             estimator=Pipeline(memory=None,\n",
       "                                steps=[('vect',\n",
       "                                        CountVectorizer(analyzer='word',\n",
       "                                                        binary=False,\n",
       "                                                        decode_error='strict',\n",
       "                                                        dtype=<class 'numpy.int64'>,\n",
       "                                                        encoding='utf-8',\n",
       "                                                        input='content',\n",
       "                                                        lowercase=True,\n",
       "                                                        max_df=1.0,\n",
       "                                                        max_features=None,\n",
       "                                                        min_df=1,\n",
       "                                                        ngram_range=(1, 1),\n",
       "                                                        preprocessor=None,\n",
       "                                                        stop_words=None,\n",
       "                                                        strip_accents=None,\n",
       "                                                        token_pattern='(?u)...\n",
       "                                                                                                                 tol=0.001,\n",
       "                                                                                                                 validation_fraction=0.1,\n",
       "                                                                                                                 verbose=0,\n",
       "                                                                                                                 warm_start=False),\n",
       "                                                                                            n_jobs=None),\n",
       "                                                              n_jobs=None))],\n",
       "                                verbose=False),\n",
       "             iid='deprecated', n_jobs=None,\n",
       "             param_grid={'clf__estimator__estimator__alpha': [0.0003, 0.001,\n",
       "                                                              0.003, 0.01,\n",
       "                                                              0.1],\n",
       "                         'clf__estimator__estimator__n_iter_no_change': [5, 10,\n",
       "                                                                         15, 20,\n",
       "                                                                         50]},\n",
       "             pre_dispatch='2*n_jobs', refit=True, return_train_score=False,\n",
       "             scoring=None, verbose=3)"
      ]
     },
     "execution_count": 27,
     "metadata": {},
     "output_type": "execute_result"
    }
   ],
   "source": [
    "clf.fit(X_train, y_train)"
   ]
  },
  {
   "cell_type": "markdown",
   "metadata": {},
   "source": [
    "### 9. Export your model as a pickle file"
   ]
  },
  {
   "cell_type": "code",
   "execution_count": 1,
   "metadata": {},
   "outputs": [],
   "source": [
    "import joblib\n"
   ]
  },
  {
   "cell_type": "code",
   "execution_count": 38,
   "metadata": {},
   "outputs": [],
   "source": [
    "per_cv = joblib.load('Percentron.pkl')"
   ]
  },
  {
   "cell_type": "markdown",
   "metadata": {},
   "source": [
    "### 10. Use this notebook to complete `train.py`\n",
    "Use the template file attached in the Resources folder to write a script that runs the steps above to create a database and export a model based on a new dataset specified by the user."
   ]
  }
 ],
 "metadata": {
  "kernelspec": {
   "display_name": "Python 3",
   "language": "python",
   "name": "python3"
  },
  "language_info": {
   "codemirror_mode": {
    "name": "ipython",
    "version": 3
   },
   "file_extension": ".py",
   "mimetype": "text/x-python",
   "name": "python",
   "nbconvert_exporter": "python",
   "pygments_lexer": "ipython3",
   "version": "3.7.6"
  }
 },
 "nbformat": 4,
 "nbformat_minor": 2
}
